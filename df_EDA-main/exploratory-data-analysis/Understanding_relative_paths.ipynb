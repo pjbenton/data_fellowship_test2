{
 "cells": [
  {
   "cell_type": "code",
   "execution_count": 1,
   "id": "79407a48-59c2-43fc-a263-9b93fd8e4644",
   "metadata": {},
   "outputs": [
    {
     "data": {
      "text/html": [
       "<style>.folder {color: #3182bd; font-weight: bold;}.jp-MarkdownOutput {width: 50%; margin-right: 20%; line-height: 1.75rem; font-size: 1rem;}</style>"
      ],
      "text/plain": [
       "<IPython.core.display.HTML object>"
      ]
     },
     "execution_count": 1,
     "metadata": {},
     "output_type": "execute_result"
    }
   ],
   "source": [
    "from IPython.display import HTML\n",
    "css_folder = '.folder {color: #3182bd; font-weight: bold;}'\n",
    "css_md = '.jp-MarkdownOutput {width: 50%; margin-right: 20%; line-height: 1.75rem; font-size: 1rem;}'\n",
    "HTML('<style>' + css_folder + css_md + '</style>')"
   ]
  },
  {
   "cell_type": "code",
   "execution_count": null,
   "id": "3707f841-d413-4102-ae11-b403f67a7791",
   "metadata": {},
   "outputs": [],
   "source": [
    "# Dont forget to run this cell!\n",
    "\n",
    "import os\n",
    "import pandas as pd"
   ]
  },
  {
   "cell_type": "markdown",
   "id": "6b95939a-cbf1-4674-bfa3-b3e930ba4ddb",
   "metadata": {},
   "source": [
    "# Understanding Relative Filepaths in Jupyter"
   ]
  },
  {
   "cell_type": "markdown",
   "id": "92926587-0e14-4f77-9799-aae8765019bb",
   "metadata": {},
   "source": [
    "When you open a Jupyter Notebook, Jupyter creates a kernel running from the folder that contains the notebook. From then, it will always assume that every file you need to do your analysis is somewhere inside that folder, which is known as the **current working directory** (cwd).\n",
    "\n",
    "The `os` library gives us the ability to check where Jupyter believes that folder is:"
   ]
  },
  {
   "cell_type": "code",
   "execution_count": null,
   "id": "8e100a98-ea9d-4d7f-8f6a-43b61a9aa3af",
   "metadata": {},
   "outputs": [],
   "source": [
    "print(os.getcwd()) # if you run this code, Python will print the location of the file you're reading right now!"
   ]
  },
  {
   "cell_type": "markdown",
   "id": "600f5cba-71db-446e-a3e8-b4801effb840",
   "metadata": {},
   "source": [
    "***\n",
    "\n",
    "## How does this impact how I load datasets?\n",
    "\n",
    "Python will assume that any path you give it is **relative** to the current working directory.\n",
    "\n",
    "To demonstrate, let's create a string representing a **relative path**, pointing to the Titanic training dataset:"
   ]
  },
  {
   "cell_type": "code",
   "execution_count": null,
   "id": "b3ce362d-bba2-40c7-a059-3c3f4f9ea170",
   "metadata": {},
   "outputs": [],
   "source": [
    "filepath = 'data/titanic_train.csv' # this is the location of the file we want to load, relative to the CWD"
   ]
  },
  {
   "cell_type": "markdown",
   "id": "86f5b827-e51e-4d23-afb6-4c4695e20c24",
   "metadata": {},
   "source": [
    "If we pass this string to `pd.read_csv()`, Python should load the Titanic dataset, as long as it can find a folder called `\"data\"` and a file called `\"titanic_train.csv\"` inside it, all contained within the current working directory."
   ]
  },
  {
   "cell_type": "code",
   "execution_count": null,
   "id": "64e9c634-bd26-4666-a0a1-12128f778e8f",
   "metadata": {},
   "outputs": [],
   "source": [
    "pd.read_csv(filepath).head() # our relative path"
   ]
  },
  {
   "cell_type": "markdown",
   "id": "d565f9df-e0f6-4b96-852a-99ce18e1f7f4",
   "metadata": {
    "tags": []
   },
   "source": [
    "## How does this work?\n",
    "\n",
    "Let's look at where Python assumed where our dataset was, as an **absolute path**. \n",
    "\n",
    "- An absolute path is one that points to the *exact* location of a folder or file on our system, relative to the disk. \n",
    "- If you're working on Windows, an abosolute path will probably begin with \"C:\\\\\".\n",
    "\n",
    "\n",
    "All we have to do is paste the current working directory path and the relative path we used above together, with an extra `/` in the middle:"
   ]
  },
  {
   "cell_type": "code",
   "execution_count": null,
   "id": "2b4b5b0f-b3c9-42f9-875a-7f4839801543",
   "metadata": {},
   "outputs": [],
   "source": [
    "filepath_with_cwd = os.getcwd() + '/' + filepath\n",
    "print(filepath_with_cwd)"
   ]
  },
  {
   "cell_type": "markdown",
   "id": "4b215c64-a7df-41e0-8d1d-ae910ab2f6cd",
   "metadata": {},
   "source": [
    "We can prove that this is what Python is doing with relative paths by loading the dataset using our new absolute path:"
   ]
  },
  {
   "cell_type": "code",
   "execution_count": null,
   "id": "ea453c1b-ab20-49ca-abef-1c4dcab6feb7",
   "metadata": {},
   "outputs": [],
   "source": [
    "pd.read_csv(filepath_with_cwd).head() # an absolute path we created with os.getcwd() and our relative path"
   ]
  },
  {
   "cell_type": "markdown",
   "id": "5ba3e5e4-4686-4901-920d-8acfecdbda97",
   "metadata": {},
   "source": [
    "Both uses of `pd.read_csv()` in this notebook so far should have exactly the same output."
   ]
  },
  {
   "cell_type": "markdown",
   "id": "bb3a0878-226d-4936-8e88-6d98273b1e06",
   "metadata": {},
   "source": [
    "***\n",
    "\n",
    "## Where might I go wrong?\n",
    "\n",
    "Beginners will often assume that you need to give a more specific path than is actually necessary. For example:\n",
    "\n",
    "- The 'Documents' folder has special significance for Windows users and you're probably storing your project notebooks and data somewhere inside it, so you might intuitively expect your path needs to begin with `\"Documents/\"`. \n",
    "\n",
    "- Similarly, if you use the 'Copy Path' feature in Jupyter Lab's file browser, you'll often get a longer path than you need.\n",
    "\n",
    "### An Example\n",
    "\n",
    "Let's see what happens when you use a file path that includes too much information. We'll create a path that won't work and store it as `broken_filepath`:"
   ]
  },
  {
   "cell_type": "code",
   "execution_count": null,
   "id": "26ff6225-9688-4ac6-8495-467ed6f81f76",
   "metadata": {},
   "outputs": [],
   "source": [
    " # an example of where you might keep this project's data in your Username's `Documents` folder:\n",
    "broken_filepath = 'Documents/projects/titanic/data/titanic_train.csv'"
   ]
  },
  {
   "cell_type": "markdown",
   "id": "1e345338-f575-4216-a6a0-216561302c7b",
   "metadata": {},
   "source": [
    "- Remeber, Jupyter assumes you want to run your code from the directory the notebook is located in, so it sets that folder as the **current working directory**.\n",
    "- Therefore, Python will assume that any paths you give it are relative\n",
    "\n",
    "#### Why it breaks\n",
    "\n",
    "Let's use string concatenation again to show what Python is doing:"
   ]
  },
  {
   "cell_type": "code",
   "execution_count": null,
   "id": "2727c899-cb04-4f02-8021-45117cb419fc",
   "metadata": {},
   "outputs": [],
   "source": [
    "broken_filepath_with_cwd = os.getcwd() + '/' + broken_filepath\n",
    "\n",
    "print(broken_filepath_with_cwd)"
   ]
  },
  {
   "cell_type": "markdown",
   "id": "e5bfbaad-6f7c-47bb-a512-6ae261f076d9",
   "metadata": {},
   "source": [
    "- Notice that there's some duplication in this output - `titanic/` appears twice - once from the working directory path, and once from the path we gave. This is a good clue we've done something wrong.\n",
    "\n",
    "- If we try to use this `broken_filepath` in `pandas.read_csv()` we get an error, because it will assume it should look for that path inside the current working directory.\n",
    "\n",
    "#### Error messages\n",
    "\n",
    "Let's try running `pd.read_csv()` with our broken file path. "
   ]
  },
  {
   "cell_type": "code",
   "execution_count": null,
   "id": "6c7a0147-60c1-4972-968d-b590f75205cd",
   "metadata": {},
   "outputs": [],
   "source": [
    "pd.read_csv(broken_filepath) # this will throw an error"
   ]
  },
  {
   "cell_type": "markdown",
   "id": "fa199ea6-6516-4b3d-b872-ca67cd1f6dd9",
   "metadata": {},
   "source": [
    "- Python gave us a lot more information in the error message than we actually need to understand what went wrong\n",
    "- Try not to be intimidated\n",
    "    - But, if you are, remember that it's **both ok and normal!**\n",
    "    - Error messages are rarely written for us users\n",
    "    - Instead, they're for the developers who wrote the program\n",
    "- Just scroll to the last line of the error message.\n",
    "- At the last line, it should say: `FileNotFoundError: [Errno 2] No such file or directory:`, followed by the path we gave Python.\n",
    "\n",
    "This is telling us that `'Documents/projects/titanic/data/titanic_train.csv'` could not be found inside the current working directory!\n",
    "\n",
    "***\n",
    "\n",
    "## How fix to errors\n",
    "\n",
    "Now let's imagine you're working on a project at work, and you got the `FileNotFoundError: [Errno 2] No such file or directory:` error. \n",
    "\n",
    "How do we fix this?\n",
    "\n",
    "Some simple checks will normally help you understand the problem:\n",
    "\n",
    "1. Check where your data are stored! Are are the files somewhere inside your current working directory, or elsewhere?\n",
    "\n",
    "2. Use `os.getcwd()` to check where your notebook is running from (the **current working directory**)\n",
    "\n",
    "3. Is the path you gave Python **relative** to your current working directory?\n",
    "\n",
    "4. Have you spelled all components of the path correctly? Look out for spaces and special characters! Python is also case-sensitve, remember!\n",
    "\n",
    "5. Try using string concatenation like we used above - e.g. `os.getcwd() + '/' + your_path`. Look for duplication in the new path, and try loading your dataset with it.\n"
   ]
  },
  {
   "cell_type": "markdown",
   "id": "18a84500-40f3-4d56-8b37-94598cc9d1c9",
   "metadata": {},
   "source": [
    "***\n",
    "\n",
    "## Avoiding the problem: some good practices for project organisation\n",
    "\n",
    "### Structure\n",
    "\n",
    "Keep each project in its own folder, and store your data for each project in either the project's folder, or in a subfolder of that folder - ideally called `data`.\n",
    "\n",
    "This not only limits your chances of getting this error, but it also makes it much easier to share your work with colleagues who might want to run your code too!\n",
    "\n",
    "For example, your Documents folder could look like this (folders shown in <span class='folder'>blue</span>):\n",
    "\n",
    "\n",
    "- <span class='folder'>Documents</span>\n",
    "    - <span class='folder'>data-projects</span>\n",
    "        - <span class='folder'>2020-customers</span>\n",
    "            - 2020-customers-eda.ipynb\n",
    "            - 2020-customers-model.ipynb\n",
    "            - <span class='folder'>data</span>\n",
    "                - customers.csv\n",
    "        - <span class='folder'>2021-competitors</span>\n",
    "            - 2021-competitors-eda.ipynb\n",
    "            - 2021-competitors-report.ipynb\n",
    "            - <span class='folder'>data</span>\n",
    "                - competitors.csv\n",
    "                \n",
    "### Names\n",
    "\n",
    "For naming files and folders, you'll need to follow any standards your workplaces requires of you first and foremost. General good practice, however, includes:\n",
    "\n",
    "- Avoid spaces - en-dashes `-` and underscores `_` are normally better\n",
    "- Avoid characters that are not an en-dash, underscore, a number, or a letter\n",
    "- The more you keep to the ASCII character set (https://en.wikipedia.org/wiki/ASCII), the fewer problems you'll have\n",
    "- If you need to include a date, put it at the start of the name and use the YYYY-MM-DD format (ISO 8601 - https://en.wikipedia.org/wiki/ISO_8601)\n",
    "\n",
    "I also like to stick exclusively to lower case letters because:\n",
    "\n",
    "- it makes paths easier to type (no extra mental effort to check spelling, and fewer key presses!) \n",
    "- it's far easier to use lower case consistently, than to establish an organisation-level or team-level standard for mixing lower and upper case."
   ]
  },
  {
   "cell_type": "markdown",
   "id": "e2be7168-06b0-4317-a922-41f42e8e98f6",
   "metadata": {},
   "source": [
    "***\n",
    "\n",
    "## Exercises\n",
    "\n",
    "### 1. Load the recipes dataset\n",
    "\n",
    "Use a **relative path** to load the *titanic_test.csv* dataset contained within the *data/* folder included with this notebook. You'll need `pd.read_csv()` to do it!"
   ]
  },
  {
   "cell_type": "code",
   "execution_count": null,
   "id": "645c9bb3-5573-43a0-bfb3-0e0729cd5c1b",
   "metadata": {},
   "outputs": [],
   "source": [
    "# Write your code here!"
   ]
  },
  {
   "cell_type": "markdown",
   "id": "28b5b251-1f11-4666-93c0-c300c17151e7",
   "metadata": {},
   "source": [
    "<details>\n",
    "    <summary>Click here for the answer!</summary>\n",
    "    <pre>pd.read_csv(\"data/titanic_test.csv\")</pre>\n",
    "</details>"
   ]
  },
  {
   "cell_type": "markdown",
   "id": "596d2d64-3571-4c3c-a62b-9cdf6123abb5",
   "metadata": {},
   "source": [
    "### 2. Quiz\n",
    "\n",
    "Try to answer the following questions. Click on the arrows to reveal the answers!"
   ]
  },
  {
   "cell_type": "markdown",
   "id": "5f31c8f9-2f2c-487d-bbbc-da12d70a3093",
   "metadata": {},
   "source": [
    "<details>\n",
    "    <summary><code>\"C:\\Users\\MyUsername\\Documents\\sales.csv\"</code> - <strong>Is this a relative or absolute path? Why?**<strong></summary>\n",
    "    <p>Absolute - it gives the exact location of the file, starting with the disk name</p>\n",
    "</details>"
   ]
  },
  {
   "cell_type": "markdown",
   "id": "3250cf5f-cdfe-4eaf-aa1c-7f9cd6d718af",
   "metadata": {},
   "source": [
    "<details>\n",
    "    <summary><code>\"Documents/data-analysis/expenditure.csv\"</code> - <strong>Is this a relative or absolute path? Will it work?</strong></summary>\n",
    "    <p>It depends. If we're trying to load this from a notebook located in the folder <strong>above</strong> Documents, it's a working relative path.</p>\n",
    "    <p>If, however, that's not the case, then it's broken.</p>\n",
    "    <p>This path looks a bit like an absolute one, but it's incomplete because it doesn't include <code>\"C:\\Users\\MyUsername\\\"</code>.</p>\n",
    "</details>"
   ]
  },
  {
   "cell_type": "markdown",
   "id": "f6ca6f96-7578-4f21-91b6-01a6ffe3eb84",
   "metadata": {},
   "source": [
    "### 3. Challenge: create a new project folder and try to load a dataset\n",
    "\n",
    "1. Open your system file explorer and navigate to your \"Documents\" folder\n",
    "\n",
    "2. Anywhere you like inside this folder (either in \"Documents\" or in a sub-folder of it), create a new folder called \"relative-paths-challenge\".\n",
    "\n",
    "3. Find a data file you'd like practice opening and put it inside this \"relative-paths-challenge\" folder. It can be any file type you like, as long as you know which Python function you need to open it. \n",
    "    - CSV is probably the one you're most familiar with at this point, but feel free to stretch yourself\n",
    "\n",
    "\n",
    "4. Use Jupyter to create and open a new notebook\n",
    "    - Pay attention to where you create the notebook! If you go straight to `File > New > Notebook`, it'll probably be created in the same place as the notebook you're reading now.\n",
    "    - Instead, use Jupyter Lab's file browser to navigate to your \"relative-paths-challenge\" folder before creating your new notebook to make sure it's in the same place as your data.\n",
    "\n",
    "\n",
    "5. In your new notebook, use Python to load your dataset:\n",
    "\n",
    "    1. Using a relative path\n",
    "    2. Using an absolute path (you can use string concatenation or type it out by hand)\n",
    "\n",
    "\n",
    "6. Did it work? Use the hints in this notebook to help at first, but ask if you're really stuck!"
   ]
  },
  {
   "cell_type": "markdown",
   "id": "b4b94d2d-6739-4bf1-a133-c1eda4356bda",
   "metadata": {},
   "source": [
    "### 4. Reflection\n",
    "\n",
    "Take 5 minutes to reflect on these points. Maybe you'll think of something you can put in your portfolio!\n",
    "\n",
    "- Have you encountered a problem with loading a file before? How did you solve it?\n",
    "\n",
    "- Have you been using good project structure and file naming practices at work? Does your organisation have a standard for this? If not, could you propose one?"
   ]
  }
 ],
 "metadata": {
  "kernelspec": {
   "display_name": "Python 3",
   "language": "python",
   "name": "python3"
  },
  "language_info": {
   "codemirror_mode": {
    "name": "ipython",
    "version": 3
   },
   "file_extension": ".py",
   "mimetype": "text/x-python",
   "name": "python",
   "nbconvert_exporter": "python",
   "pygments_lexer": "ipython3",
   "version": "3.8.8"
  }
 },
 "nbformat": 4,
 "nbformat_minor": 5
}
