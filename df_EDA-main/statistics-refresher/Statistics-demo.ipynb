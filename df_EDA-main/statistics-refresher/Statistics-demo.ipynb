{
 "cells": [
  {
   "cell_type": "code",
   "execution_count": 1,
   "metadata": {},
   "outputs": [
    {
     "data": {
      "text/html": [
       "<script>\n",
       "code_show=true; \n",
       "function code_toggle() {\n",
       "    if (code_show){\n",
       "        $('div.cell.code_cell.rendered.selected div.input').hide();\n",
       "    } else {\n",
       "        $('div.cell.code_cell.rendered.selected div.input').show();\n",
       "    }\n",
       "    code_show = !code_show\n",
       "} \n",
       "$( document ).ready(code_toggle);\n",
       "\n",
       "var flagHighlight=0;\n",
       "var flagHighlightCode = 0;\n",
       "var flagMagnifyCell = 0;\n",
       "var flagMagnifyCode =0;\n",
       "var flagMagnifyOutputs=0;\n",
       "var flagEnlarge = 0;\n",
       "var flagHighlightOutput = 0;\n",
       "\n",
       "function enlarge_markdown(){\n",
       "    \n",
       "if(flagEnlarge==0){\n",
       "flagEnlarges = 1;\n",
       "document.getElementById('button7').classList.toggle('active_button');\n",
       "var els = document.getElementsByClassName('text_cell');\n",
       "var i;\n",
       "for(i=0;i<els.length;i++){\n",
       "els[i].classList.toggle('enlarged');}}\n",
       "else{\n",
       "flagEnlarge = 0;\n",
       "document.getElementById('button7').classList.toggle('active_button');\n",
       "var els = document.getElementsByClassName('text_cell');\n",
       "var i;\n",
       "for(i=0;i<els.length;i++){\n",
       "els[i].classList.remove('enlarged');\n",
       "}};};\n",
       "\n",
       "\n",
       "function magnify_outputs(){\n",
       "    \n",
       "if(flagMagnifyOutputs==0){\n",
       "flagMagnifyOutputs = 1;\n",
       "document.getElementById('button5').classList.toggle('active_button');\n",
       "var els = document.getElementsByClassName('output_wrapper');\n",
       "var i;\n",
       "for(i=0;i<els.length;i++){\n",
       "els[i].classList.toggle('magnified_output');}}\n",
       "else{\n",
       "flagMagnifyOutputs = 0;\n",
       "document.getElementById('button5').classList.toggle('active_button');\n",
       "var els = document.getElementsByClassName('output_wrapper');\n",
       "var i;\n",
       "for(i=0;i<els.length;i++){\n",
       "els[i].classList.remove('magnified_output');\n",
       "}};};\n",
       "\n",
       "function magnify_output_lines(){\n",
       "    \n",
       "if(flagHighlightOutput==0){\n",
       "flagHighlightOutput = 1;\n",
       "document.getElementById('button6').classList.toggle('active_button');\n",
       "var els = document.getElementsByClassName('output_wrapper');\n",
       "var i;\n",
       "for(i=0;i<els.length;i++){\n",
       "els[i].classList.toggle('magnified_output_lines');}}\n",
       "else{flagHighlightOutput = 0;\n",
       "document.getElementById('button6').classList.toggle('active_button');\n",
       "var els = document.getElementsByClassName('output_wrapper');\n",
       "var i;\n",
       "for(i=0;i<els.length;i++){\n",
       "els[i].classList.remove('magnified_output_lines');\n",
       "}};};\n",
       "\n",
       "\n",
       "function highlight_cell(){\n",
       "    \n",
       "if(flagHighlight==0){\n",
       "flagHighlight = 1;\n",
       "document.getElementById('button4').classList.toggle('active_button');\n",
       "var els = document.getElementsByClassName('CodeMirror-lines');\n",
       "var i;\n",
       "for(i=0;i<els.length;i++){\n",
       "els[i].classList.toggle('highlighted');}}\n",
       "else{flagHighlight = 0;\n",
       "document.getElementById('button4').classList.toggle('active_button');\n",
       "var els = document.getElementsByClassName('CodeMirror-lines');\n",
       "var i;\n",
       "for(i=0;i<els.length;i++){\n",
       "els[i].classList.remove('highlighted');\n",
       "}};};\n",
       "\n",
       "\n",
       "function highlight_code(){   \n",
       "if(flagHighlightCode==0){\n",
       "\n",
       "flagHighlightCode = 1;\n",
       "document.getElementById('button3').classList.toggle('active_button');\n",
       "var els = document.getElementsByClassName('CodeMirror-lines');\n",
       "var i;\n",
       "for(i=0;i<els.length;i++){\n",
       "els[i].classList.toggle('highlighted_code');}}   \n",
       "else{flagHighlightCode = 0;\n",
       "document.getElementById('button3').classList.toggle('active_button');\n",
       "var els = document.getElementsByClassName('CodeMirror-lines');\n",
       "var i;\n",
       "for(i=0;i<els.length;i++){\n",
       "els[i].classList.remove('highlighted_code');\n",
       "}};};\n",
       "\n",
       "function magnify_cell(){   \n",
       "if(flagMagnifyCell==0){\n",
       "flagMagnifyCell = 1;\n",
       "document.getElementById('button2').classList.toggle('active_button');\n",
       "var els = document.getElementsByClassName('CodeMirror-lines');\n",
       "var i;\n",
       "for(i=0;i<els.length;i++){\n",
       "els[i].classList.toggle('magnified_cell');}}   \n",
       "else{flagMagnifyCell = 0;\n",
       "document.getElementById('button2').classList.toggle('active_button');\n",
       "var els = document.getElementsByClassName('CodeMirror-lines');\n",
       "var i;\n",
       "for(i=0;i<els.length;i++){\n",
       "els[i].classList.remove('magnified_cell');\n",
       "}};};\n",
       "\n",
       "function magnify_code(){   \n",
       "if(flagMagnifyCode==0){\n",
       "flagMagnifyCode = 1;\n",
       "document.getElementById('button1').classList.toggle('active_button');\n",
       "var els = document.getElementsByClassName('CodeMirror-lines');\n",
       "var i;\n",
       "for(i=0;i<els.length;i++){\n",
       "els[i].classList.toggle('magnified_code');}}   \n",
       "else{flagMagnifyCode = 0;\n",
       "document.getElementById('button1').classList.toggle('active_button');\n",
       "var els = document.getElementsByClassName('CodeMirror-lines');\n",
       "var i;\n",
       "for(i=0;i<els.length;i++){\n",
       "els[i].classList.remove('magnified_code');\n",
       "}};};\n",
       "\n",
       "\n",
       "document.getElementsByTagName(\"BODY\")[0].insertAdjacentHTML(\"afterend\", \"<div id='help_box'></div>\");\n",
       "document.getElementsByTagName(\"BODY\")[0].insertAdjacentHTML(\"afterend\",\"<img src= 'https://img.flaticon.com/icons/png/512/25/25186.png?size=1200x630f&pad=10,10,10,10&ext=png&bg=FFFFFFFF' id='mvlogo'>\")\n",
       "document.getElementsByTagName(\"BODY\")[0].insertAdjacentHTML(\"afterend\", \"<div class='hidden' id='tooltip2'><p>click the eye to hide/show tools</p></div>\");\n",
       "var help_box = document.getElementById('help_box');\n",
       "\n",
       "help_box.classList.add('floater');\n",
       "\n",
       "help_box.innerHTML = \"<h2 id='heading'><b>Visual tools</b></h2><button id='button1' class='clean_buttons'>Magnify lines </button><button id='button2'class = 'clean_buttons' >Enlarge cells</button><button id='button3' class = 'clean_buttons' >highlight lines</button><button id='button4' class = 'clean_buttons' >highlight cell</button>\";\n",
       "help_box.innerHTML +=\"<button id='button5' class='clean_buttons'>Enlarge</button><button id='button6' class='clean_buttons'>Highlight</button>\"\n",
       "help_box.innerHTML += \"<button id='button7' class='clean_buttons'>enlarge</button\"\n",
       "help_box.innerHTML+= \"<p class='sections' id='code_heading'><b>Code</b></p>\"\n",
       "help_box.innerHTML+= \"<p class='sections' id='output_heading'><b>Outputs</b></p>\"\n",
       "help_box.innerHTML+= \"<p class='sections' id='markdown_heading'><b>Markdowns</b></p>\"\n",
       "help_box.innerHTML +=\"<p id='credit'>logo credit to https://www.flaticon.com/free-icon/eye-open_25186 <br>  used under open license: Attribution 3.0 Unported (CC BY 3.0)<br> Coded by N.Griffiths employed by Muliverse </p>\"\n",
       "document.body.appendChild(help_box);\n",
       "\n",
       "document.getElementById('button7').addEventListener('click',function(){\n",
       "   enlarge_markdown();});\n",
       "    \n",
       "document.getElementById('button6').addEventListener('click',function(){\n",
       "    magnify_output_lines();});\n",
       "\n",
       "document.getElementById('button5').addEventListener('click',function(){\n",
       "    magnify_outputs();});\n",
       "    \n",
       "document.getElementById('button4').addEventListener('click',function(){\n",
       "    highlight_cell();});\n",
       "\n",
       "document.getElementById('button3').addEventListener('click',function(){\n",
       "    highlight_code();});\n",
       "\n",
       "document.getElementById('button2').addEventListener('click',function(){\n",
       "    magnify_cell();});\n",
       "\n",
       "document.getElementById('button1').addEventListener('click',function(){\n",
       "    magnify_code();});\n",
       " \n",
       "document.getElementById('mvlogo').addEventListener('click',function(){  \n",
       "document.getElementById('help_box').classList.toggle('hidden');}); \n",
       " \n",
       " \n",
       "document.getElementById('mvlogo').addEventListener('mouseover',function(){  \n",
       "document.getElementById('tooltip2').classList.toggle('hidden');});\n",
       "\n",
       "document.getElementById('mvlogo').addEventListener('mouseout',function(){  \n",
       "document.getElementById('tooltip2').classList.toggle('hidden');});\n",
       "\n",
       "\n",
       "</script>\n",
       "<a id='boilerplate' href=\"javascript:code_toggle()\">change js running visual-aids</a>.\n",
       "\n",
       "\n",
       "<style>\n",
       "\n",
       ".hidden{\n",
       "display:none;\n",
       "}\n",
       "\n",
       "#credit{\n",
       "position: fixed;\n",
       "top:65.5vh;\n",
       "left:81vw;\n",
       "font-size:0.9vmin;\n",
       "}\n",
       "#boilerplate{\n",
       "color:white;\n",
       "}\n",
       "\n",
       "#boilerplate:hover{\n",
       "color:blue;\n",
       "}\n",
       "\n",
       "#tooltip2{\n",
       "position:fixed;\n",
       "z-index:1001;\n",
       "left:80vw;\n",
       "top:18vh;\n",
       "font-size:1.5vh;\n",
       "background-color:white;\n",
       "}\n",
       "\n",
       ".floater{\n",
       "background-color:#FFFFFF;\n",
       "color:#003b49;\n",
       "border-style:solid;\n",
       "border-color:#003b49;\n",
       "borderwidth:0.1vh;\n",
       "z-index:1000;\n",
       "position:fixed;\n",
       "left: 80vw;\n",
       "Top: 20vh;\n",
       "height: 53vh;\n",
       "width: 18vw;\n",
       "\n",
       "}\n",
       "\n",
       "#heading{\n",
       "position:fixed;\n",
       "top:21vh;\n",
       "left:80vw;\n",
       "margin: 1vh 1vh 1vh  1vh;\n",
       "font-size:3vmin;}\n",
       "\n",
       ".clean_buttons{\n",
       "padding: 0px 0px 0px 0px;\n",
       "background-color:#d0d3d4;\n",
       "color:#003b49;\n",
       "cursor: pointer;\n",
       "width:8vw;\n",
       "height:6vh;\n",
       "font-size:2vmin;\n",
       "border-width:0.1vh;\n",
       "}\n",
       "#button1{\n",
       "position:fixed;\n",
       "top:31vh;\n",
       "left:80.5vw;\n",
       "}\n",
       "#button2{\n",
       "position:fixed;\n",
       "top:31vh;\n",
       "left:89vw;\n",
       "}\n",
       "#button3{\n",
       "position:fixed;\n",
       "top:38vh;\n",
       "left:80.5vw;\n",
       "}\n",
       "#button4{\n",
       "position:fixed;\n",
       "top:38vh;\n",
       "left:89vw;\n",
       "}\n",
       "#button5{\n",
       "position:fixed;\n",
       "top:48.5vh;\n",
       "left:80.5vw;\n",
       "}\n",
       "#button6{\n",
       "position:fixed;\n",
       "top:48.5vh;\n",
       "left:89vw;\n",
       "}\n",
       "#button7{\n",
       "position:fixed;\n",
       "top:58vh;\n",
       "left: 84vw;\n",
       "}\n",
       ".active_button{\n",
       "background:#003b49;\n",
       "color:#d0d3d4;\n",
       "}\n",
       "\n",
       ".sections{\n",
       "font-size: 2vmin;\n",
       "left:82vw;\n",
       "}\n",
       "#code_heading{\n",
       "position:fixed;\n",
       "top:28vh;\n",
       "}\n",
       "#output_heading{\n",
       "position:fixed;\n",
       "top:45vh;\n",
       "}\n",
       "#markdown_heading{\n",
       "position:fixed;\n",
       "top:55vh;\n",
       "}\n",
       "\n",
       "#mvlogo{\n",
       "width:18vw;\n",
       "height:8vh;\n",
       "object-fit: cover;\n",
       "position:fixed;\n",
       "z-index:1000;\n",
       "left: 80vw;\n",
       "top: 10vh;\n",
       "border: 0.5vh solid #003b49;\n",
       "cursor: pointer;\n",
       "}\n",
       "\n",
       ".highlighted :hover{\n",
       "background-color:#fcfaeb;\n",
       "}\n",
       "\n",
       ".highlighted_code div pre :hover{\n",
       "background-color:yellow;\n",
       "}\n",
       "\n",
       ".magnified_code div pre span:hover{\n",
       "margin-top:3vh;\n",
       "margin-bottom:3vh;\n",
       "height:30px;\n",
       "width:auto;\n",
       "font-size:130%;}\n",
       "\n",
       ".magnified_cell div pre{\n",
       "padding: 6px 0px 6px 0px;\n",
       "}\n",
       "\n",
       ".magnified_cell div{\n",
       "font-size:120%;\n",
       "line-height:120%;\n",
       "}\n",
       "\n",
       ".magnified_output *{\n",
       "font-size: 115%;\n",
       "}\n",
       "\n",
       ".magnified_output_lines :hover{\n",
       "background-color:#FFFF99;\n",
       "color:purple;\n",
       "\n",
       "}\n",
       "\n",
       ".enlarged *  {\n",
       "font-size:120%;\n",
       "line-height:120%;\n",
       "\n",
       "}\n",
       "\n",
       "\n",
       "\n",
       "</style>\n"
      ],
      "text/plain": [
       "<IPython.core.display.HTML object>"
      ]
     },
     "metadata": {},
     "output_type": "display_data"
    }
   ],
   "source": [
    "from IPython.display import HTML\n",
    "from IPython.display import Javascript\n",
    "\n",
    "from IPython.display import display\n",
    "\n",
    "# Taken from https://stackoverflow.com/questions/31517194/how-to-hide-one-specific-cell-input-or-output-in-ipython-notebook\n",
    "tag = HTML(\"\"\"<script>\n",
    "code_show=true; \n",
    "function code_toggle() {\n",
    "    if (code_show){\n",
    "        $('div.cell.code_cell.rendered.selected div.input').hide();\n",
    "    } else {\n",
    "        $('div.cell.code_cell.rendered.selected div.input').show();\n",
    "    }\n",
    "    code_show = !code_show\n",
    "} \n",
    "$( document ).ready(code_toggle);\n",
    "\n",
    "var flagHighlight=0;\n",
    "var flagHighlightCode = 0;\n",
    "var flagMagnifyCell = 0;\n",
    "var flagMagnifyCode =0;\n",
    "var flagMagnifyOutputs=0;\n",
    "var flagEnlarge = 0;\n",
    "var flagHighlightOutput = 0;\n",
    "\n",
    "function enlarge_markdown(){\n",
    "    \n",
    "if(flagEnlarge==0){\n",
    "flagEnlarges = 1;\n",
    "document.getElementById('button7').classList.toggle('active_button');\n",
    "var els = document.getElementsByClassName('text_cell');\n",
    "var i;\n",
    "for(i=0;i<els.length;i++){\n",
    "els[i].classList.toggle('enlarged');}}\n",
    "else{\n",
    "flagEnlarge = 0;\n",
    "document.getElementById('button7').classList.toggle('active_button');\n",
    "var els = document.getElementsByClassName('text_cell');\n",
    "var i;\n",
    "for(i=0;i<els.length;i++){\n",
    "els[i].classList.remove('enlarged');\n",
    "}};};\n",
    "\n",
    "\n",
    "function magnify_outputs(){\n",
    "    \n",
    "if(flagMagnifyOutputs==0){\n",
    "flagMagnifyOutputs = 1;\n",
    "document.getElementById('button5').classList.toggle('active_button');\n",
    "var els = document.getElementsByClassName('output_wrapper');\n",
    "var i;\n",
    "for(i=0;i<els.length;i++){\n",
    "els[i].classList.toggle('magnified_output');}}\n",
    "else{\n",
    "flagMagnifyOutputs = 0;\n",
    "document.getElementById('button5').classList.toggle('active_button');\n",
    "var els = document.getElementsByClassName('output_wrapper');\n",
    "var i;\n",
    "for(i=0;i<els.length;i++){\n",
    "els[i].classList.remove('magnified_output');\n",
    "}};};\n",
    "\n",
    "function magnify_output_lines(){\n",
    "    \n",
    "if(flagHighlightOutput==0){\n",
    "flagHighlightOutput = 1;\n",
    "document.getElementById('button6').classList.toggle('active_button');\n",
    "var els = document.getElementsByClassName('output_wrapper');\n",
    "var i;\n",
    "for(i=0;i<els.length;i++){\n",
    "els[i].classList.toggle('magnified_output_lines');}}\n",
    "else{flagHighlightOutput = 0;\n",
    "document.getElementById('button6').classList.toggle('active_button');\n",
    "var els = document.getElementsByClassName('output_wrapper');\n",
    "var i;\n",
    "for(i=0;i<els.length;i++){\n",
    "els[i].classList.remove('magnified_output_lines');\n",
    "}};};\n",
    "\n",
    "\n",
    "function highlight_cell(){\n",
    "    \n",
    "if(flagHighlight==0){\n",
    "flagHighlight = 1;\n",
    "document.getElementById('button4').classList.toggle('active_button');\n",
    "var els = document.getElementsByClassName('CodeMirror-lines');\n",
    "var i;\n",
    "for(i=0;i<els.length;i++){\n",
    "els[i].classList.toggle('highlighted');}}\n",
    "else{flagHighlight = 0;\n",
    "document.getElementById('button4').classList.toggle('active_button');\n",
    "var els = document.getElementsByClassName('CodeMirror-lines');\n",
    "var i;\n",
    "for(i=0;i<els.length;i++){\n",
    "els[i].classList.remove('highlighted');\n",
    "}};};\n",
    "\n",
    "\n",
    "function highlight_code(){   \n",
    "if(flagHighlightCode==0){\n",
    "\n",
    "flagHighlightCode = 1;\n",
    "document.getElementById('button3').classList.toggle('active_button');\n",
    "var els = document.getElementsByClassName('CodeMirror-lines');\n",
    "var i;\n",
    "for(i=0;i<els.length;i++){\n",
    "els[i].classList.toggle('highlighted_code');}}   \n",
    "else{flagHighlightCode = 0;\n",
    "document.getElementById('button3').classList.toggle('active_button');\n",
    "var els = document.getElementsByClassName('CodeMirror-lines');\n",
    "var i;\n",
    "for(i=0;i<els.length;i++){\n",
    "els[i].classList.remove('highlighted_code');\n",
    "}};};\n",
    "\n",
    "function magnify_cell(){   \n",
    "if(flagMagnifyCell==0){\n",
    "flagMagnifyCell = 1;\n",
    "document.getElementById('button2').classList.toggle('active_button');\n",
    "var els = document.getElementsByClassName('CodeMirror-lines');\n",
    "var i;\n",
    "for(i=0;i<els.length;i++){\n",
    "els[i].classList.toggle('magnified_cell');}}   \n",
    "else{flagMagnifyCell = 0;\n",
    "document.getElementById('button2').classList.toggle('active_button');\n",
    "var els = document.getElementsByClassName('CodeMirror-lines');\n",
    "var i;\n",
    "for(i=0;i<els.length;i++){\n",
    "els[i].classList.remove('magnified_cell');\n",
    "}};};\n",
    "\n",
    "function magnify_code(){   \n",
    "if(flagMagnifyCode==0){\n",
    "flagMagnifyCode = 1;\n",
    "document.getElementById('button1').classList.toggle('active_button');\n",
    "var els = document.getElementsByClassName('CodeMirror-lines');\n",
    "var i;\n",
    "for(i=0;i<els.length;i++){\n",
    "els[i].classList.toggle('magnified_code');}}   \n",
    "else{flagMagnifyCode = 0;\n",
    "document.getElementById('button1').classList.toggle('active_button');\n",
    "var els = document.getElementsByClassName('CodeMirror-lines');\n",
    "var i;\n",
    "for(i=0;i<els.length;i++){\n",
    "els[i].classList.remove('magnified_code');\n",
    "}};};\n",
    "\n",
    "\n",
    "document.getElementsByTagName(\"BODY\")[0].insertAdjacentHTML(\"afterend\", \"<div id='help_box'></div>\");\n",
    "document.getElementsByTagName(\"BODY\")[0].insertAdjacentHTML(\"afterend\",\"<img src= 'https://img.flaticon.com/icons/png/512/25/25186.png?size=1200x630f&pad=10,10,10,10&ext=png&bg=FFFFFFFF' id='mvlogo'>\")\n",
    "document.getElementsByTagName(\"BODY\")[0].insertAdjacentHTML(\"afterend\", \"<div class='hidden' id='tooltip2'><p>click the eye to hide/show tools</p></div>\");\n",
    "var help_box = document.getElementById('help_box');\n",
    "\n",
    "help_box.classList.add('floater');\n",
    "\n",
    "help_box.innerHTML = \"<h2 id='heading'><b>Visual tools</b></h2><button id='button1' class='clean_buttons'>Magnify lines </button><button id='button2'class = 'clean_buttons' >Enlarge cells</button><button id='button3' class = 'clean_buttons' >highlight lines</button><button id='button4' class = 'clean_buttons' >highlight cell</button>\";\n",
    "help_box.innerHTML +=\"<button id='button5' class='clean_buttons'>Enlarge</button><button id='button6' class='clean_buttons'>Highlight</button>\"\n",
    "help_box.innerHTML += \"<button id='button7' class='clean_buttons'>enlarge</button\"\n",
    "help_box.innerHTML+= \"<p class='sections' id='code_heading'><b>Code</b></p>\"\n",
    "help_box.innerHTML+= \"<p class='sections' id='output_heading'><b>Outputs</b></p>\"\n",
    "help_box.innerHTML+= \"<p class='sections' id='markdown_heading'><b>Markdowns</b></p>\"\n",
    "help_box.innerHTML +=\"<p id='credit'>logo credit to https://www.flaticon.com/free-icon/eye-open_25186 <br>  used under open license: Attribution 3.0 Unported (CC BY 3.0)<br> Coded by N.Griffiths employed by Muliverse </p>\"\n",
    "document.body.appendChild(help_box);\n",
    "\n",
    "document.getElementById('button7').addEventListener('click',function(){\n",
    "   enlarge_markdown();});\n",
    "    \n",
    "document.getElementById('button6').addEventListener('click',function(){\n",
    "    magnify_output_lines();});\n",
    "\n",
    "document.getElementById('button5').addEventListener('click',function(){\n",
    "    magnify_outputs();});\n",
    "    \n",
    "document.getElementById('button4').addEventListener('click',function(){\n",
    "    highlight_cell();});\n",
    "\n",
    "document.getElementById('button3').addEventListener('click',function(){\n",
    "    highlight_code();});\n",
    "\n",
    "document.getElementById('button2').addEventListener('click',function(){\n",
    "    magnify_cell();});\n",
    "\n",
    "document.getElementById('button1').addEventListener('click',function(){\n",
    "    magnify_code();});\n",
    " \n",
    "document.getElementById('mvlogo').addEventListener('click',function(){  \n",
    "document.getElementById('help_box').classList.toggle('hidden');}); \n",
    " \n",
    " \n",
    "document.getElementById('mvlogo').addEventListener('mouseover',function(){  \n",
    "document.getElementById('tooltip2').classList.toggle('hidden');});\n",
    "\n",
    "document.getElementById('mvlogo').addEventListener('mouseout',function(){  \n",
    "document.getElementById('tooltip2').classList.toggle('hidden');});\n",
    "\n",
    "\n",
    "</script>\n",
    "<a id='boilerplate' href=\"javascript:code_toggle()\">change js running visual-aids</a>.\n",
    "\n",
    "\n",
    "<style>\n",
    "\n",
    ".hidden{\n",
    "display:none;\n",
    "}\n",
    "\n",
    "#credit{\n",
    "position: fixed;\n",
    "top:65.5vh;\n",
    "left:81vw;\n",
    "font-size:0.9vmin;\n",
    "}\n",
    "#boilerplate{\n",
    "color:white;\n",
    "}\n",
    "\n",
    "#boilerplate:hover{\n",
    "color:blue;\n",
    "}\n",
    "\n",
    "#tooltip2{\n",
    "position:fixed;\n",
    "z-index:1001;\n",
    "left:80vw;\n",
    "top:18vh;\n",
    "font-size:1.5vh;\n",
    "background-color:white;\n",
    "}\n",
    "\n",
    ".floater{\n",
    "background-color:#FFFFFF;\n",
    "color:#003b49;\n",
    "border-style:solid;\n",
    "border-color:#003b49;\n",
    "borderwidth:0.1vh;\n",
    "z-index:1000;\n",
    "position:fixed;\n",
    "left: 80vw;\n",
    "Top: 20vh;\n",
    "height: 53vh;\n",
    "width: 18vw;\n",
    "\n",
    "}\n",
    "\n",
    "#heading{\n",
    "position:fixed;\n",
    "top:21vh;\n",
    "left:80vw;\n",
    "margin: 1vh 1vh 1vh  1vh;\n",
    "font-size:3vmin;}\n",
    "\n",
    ".clean_buttons{\n",
    "padding: 0px 0px 0px 0px;\n",
    "background-color:#d0d3d4;\n",
    "color:#003b49;\n",
    "cursor: pointer;\n",
    "width:8vw;\n",
    "height:6vh;\n",
    "font-size:2vmin;\n",
    "border-width:0.1vh;\n",
    "}\n",
    "#button1{\n",
    "position:fixed;\n",
    "top:31vh;\n",
    "left:80.5vw;\n",
    "}\n",
    "#button2{\n",
    "position:fixed;\n",
    "top:31vh;\n",
    "left:89vw;\n",
    "}\n",
    "#button3{\n",
    "position:fixed;\n",
    "top:38vh;\n",
    "left:80.5vw;\n",
    "}\n",
    "#button4{\n",
    "position:fixed;\n",
    "top:38vh;\n",
    "left:89vw;\n",
    "}\n",
    "#button5{\n",
    "position:fixed;\n",
    "top:48.5vh;\n",
    "left:80.5vw;\n",
    "}\n",
    "#button6{\n",
    "position:fixed;\n",
    "top:48.5vh;\n",
    "left:89vw;\n",
    "}\n",
    "#button7{\n",
    "position:fixed;\n",
    "top:58vh;\n",
    "left: 84vw;\n",
    "}\n",
    ".active_button{\n",
    "background:#003b49;\n",
    "color:#d0d3d4;\n",
    "}\n",
    "\n",
    ".sections{\n",
    "font-size: 2vmin;\n",
    "left:82vw;\n",
    "}\n",
    "#code_heading{\n",
    "position:fixed;\n",
    "top:28vh;\n",
    "}\n",
    "#output_heading{\n",
    "position:fixed;\n",
    "top:45vh;\n",
    "}\n",
    "#markdown_heading{\n",
    "position:fixed;\n",
    "top:55vh;\n",
    "}\n",
    "\n",
    "#mvlogo{\n",
    "width:18vw;\n",
    "height:8vh;\n",
    "object-fit: cover;\n",
    "position:fixed;\n",
    "z-index:1000;\n",
    "left: 80vw;\n",
    "top: 10vh;\n",
    "border: 0.5vh solid #003b49;\n",
    "cursor: pointer;\n",
    "}\n",
    "\n",
    ".highlighted :hover{\n",
    "background-color:#fcfaeb;\n",
    "}\n",
    "\n",
    ".highlighted_code div pre :hover{\n",
    "background-color:yellow;\n",
    "}\n",
    "\n",
    ".magnified_code div pre span:hover{\n",
    "margin-top:3vh;\n",
    "margin-bottom:3vh;\n",
    "height:30px;\n",
    "width:auto;\n",
    "font-size:130%;}\n",
    "\n",
    ".magnified_cell div pre{\n",
    "padding: 6px 0px 6px 0px;\n",
    "}\n",
    "\n",
    ".magnified_cell div{\n",
    "font-size:120%;\n",
    "line-height:120%;\n",
    "}\n",
    "\n",
    ".magnified_output *{\n",
    "font-size: 115%;\n",
    "}\n",
    "\n",
    ".magnified_output_lines :hover{\n",
    "background-color:#FFFF99;\n",
    "color:purple;\n",
    "\n",
    "}\n",
    "\n",
    ".enlarged *  {\n",
    "font-size:120%;\n",
    "line-height:120%;\n",
    "\n",
    "}\n",
    "\n",
    "\n",
    "\n",
    "</style>\n",
    "\"\"\")\n",
    "\n",
    "display(tag)"
   ]
  },
  {
   "cell_type": "markdown",
   "metadata": {},
   "source": [
    "<img src=\"http://imgur.com/1ZcRyrc.png\" style=\"float: left; margin: 20px; height: 55px\">\n",
    "\n",
    "# Statistics Fundamentals, Part 1\n",
    "\n",
    "_Authors: Alexander Egorenkov (DC), Amy Roberts (NYC)_\n",
    "\n",
    "---"
   ]
  },
  {
   "cell_type": "markdown",
   "metadata": {},
   "source": [
    "<a id=\"learning-objectives\"></a>\n",
    "## Learning Objectives\n",
    "- Compute dot products, matrix multiplications, and vector norms by hand and using NumPy.\n",
    "- Code summary statistics using NumPy and Pandas: mean, median, mode, max, min, quartile, inter-quartile range, variance, standard deviation, and correlation.\n",
    "- Create basic data visualizations, including scatterplots, box plots, and histograms.\n",
    "- Describe characteristics and trends in a data set using visualizations.\n",
    "- Describe the bias and variance of statistical estimators.\n",
    "- Identify a normal distribution within a data set using summary statistics and data visualizations."
   ]
  },
  {
   "cell_type": "code",
   "execution_count": 1,
   "metadata": {},
   "outputs": [],
   "source": [
    "import pandas as pd\n",
    "import seaborn as sns\n",
    "import numpy as np\n",
    "import matplotlib.pyplot as plt\n",
    "from ipywidgets import interact\n",
    "plt.style.use('fivethirtyeight')\n",
    "\n",
    "# This makes sure that graphs render in your notebook.\n",
    "%matplotlib inline"
   ]
  },
  {
   "cell_type": "markdown",
   "metadata": {},
   "source": [
    "<a id=\"linear-algebra-review\"></a>\n",
    "## Linear Algebra Review\n",
    "---\n",
    "**Objective:** Compute dot products, matrix multiplications, and vector norms by hand and using NumPy."
   ]
  },
  {
   "cell_type": "markdown",
   "metadata": {},
   "source": [
    "<a id=\"codealong-examining-the-titanic-dataset\"></a>\n",
    "# Section 1: Examining the Titanic Data Set\n",
    "\n",
    "---"
   ]
  },
  {
   "cell_type": "markdown",
   "metadata": {},
   "source": [
    "#### Objective: Read in the Titanic data and look at a few summary statistics."
   ]
  },
  {
   "cell_type": "code",
   "execution_count": 12,
   "metadata": {},
   "outputs": [],
   "source": [
    "# Import Pandas\n",
    "import pandas as pd\n",
    "import numpy as np"
   ]
  },
  {
   "cell_type": "code",
   "execution_count": 2,
   "metadata": {},
   "outputs": [],
   "source": [
    "titanic = pd.read_csv('data/titanic.csv')"
   ]
  },
  {
   "cell_type": "markdown",
   "metadata": {},
   "source": [
    "#### Print out the column names:"
   ]
  },
  {
   "cell_type": "code",
   "execution_count": 3,
   "metadata": {
    "scrolled": true
   },
   "outputs": [
    {
     "data": {
      "text/plain": [
       "Index(['survived', 'pclass', 'name', 'sex', 'age', 'sibsp', 'parch', 'ticket',\n",
       "       'fare', 'cabin', 'embarked'],\n",
       "      dtype='object')"
      ]
     },
     "execution_count": 3,
     "metadata": {},
     "output_type": "execute_result"
    }
   ],
   "source": [
    "titanic.columns"
   ]
  },
  {
   "cell_type": "markdown",
   "metadata": {},
   "source": [
    "#### Print out the dimensions of the DataFrame using the `.shape` attribute:"
   ]
  },
  {
   "cell_type": "code",
   "execution_count": 4,
   "metadata": {},
   "outputs": [
    {
     "data": {
      "text/plain": [
       "(891, 11)"
      ]
     },
     "execution_count": 4,
     "metadata": {},
     "output_type": "execute_result"
    }
   ],
   "source": [
    "titanic.shape"
   ]
  },
  {
   "cell_type": "markdown",
   "metadata": {},
   "source": [
    "#### Print out the data types of the columns using the `.dtypes` attribute:"
   ]
  },
  {
   "cell_type": "code",
   "execution_count": 5,
   "metadata": {},
   "outputs": [
    {
     "data": {
      "text/plain": [
       "survived      int64\n",
       "pclass        int64\n",
       "name         object\n",
       "sex          object\n",
       "age         float64\n",
       "sibsp         int64\n",
       "parch         int64\n",
       "ticket       object\n",
       "fare        float64\n",
       "cabin        object\n",
       "embarked     object\n",
       "dtype: object"
      ]
     },
     "execution_count": 5,
     "metadata": {},
     "output_type": "execute_result"
    }
   ],
   "source": [
    "titanic.dtypes"
   ]
  },
  {
   "cell_type": "markdown",
   "metadata": {},
   "source": [
    "#### Print out the first five rows of the data using the built-in `.head()` function:"
   ]
  },
  {
   "cell_type": "code",
   "execution_count": 6,
   "metadata": {
    "scrolled": false
   },
   "outputs": [
    {
     "data": {
      "text/html": [
       "<div>\n",
       "<style scoped>\n",
       "    .dataframe tbody tr th:only-of-type {\n",
       "        vertical-align: middle;\n",
       "    }\n",
       "\n",
       "    .dataframe tbody tr th {\n",
       "        vertical-align: top;\n",
       "    }\n",
       "\n",
       "    .dataframe thead th {\n",
       "        text-align: right;\n",
       "    }\n",
       "</style>\n",
       "<table border=\"1\" class=\"dataframe\">\n",
       "  <thead>\n",
       "    <tr style=\"text-align: right;\">\n",
       "      <th></th>\n",
       "      <th>survived</th>\n",
       "      <th>pclass</th>\n",
       "      <th>name</th>\n",
       "      <th>sex</th>\n",
       "      <th>age</th>\n",
       "      <th>sibsp</th>\n",
       "      <th>parch</th>\n",
       "      <th>ticket</th>\n",
       "      <th>fare</th>\n",
       "      <th>cabin</th>\n",
       "      <th>embarked</th>\n",
       "    </tr>\n",
       "  </thead>\n",
       "  <tbody>\n",
       "    <tr>\n",
       "      <th>0</th>\n",
       "      <td>0</td>\n",
       "      <td>3</td>\n",
       "      <td>Braund, Mr. Owen Harris</td>\n",
       "      <td>male</td>\n",
       "      <td>22.0</td>\n",
       "      <td>1</td>\n",
       "      <td>0</td>\n",
       "      <td>A/5 21171</td>\n",
       "      <td>7.2500</td>\n",
       "      <td>NaN</td>\n",
       "      <td>S</td>\n",
       "    </tr>\n",
       "    <tr>\n",
       "      <th>1</th>\n",
       "      <td>1</td>\n",
       "      <td>1</td>\n",
       "      <td>Cumings, Mrs. John Bradley (Florence Briggs Th...</td>\n",
       "      <td>female</td>\n",
       "      <td>38.0</td>\n",
       "      <td>1</td>\n",
       "      <td>0</td>\n",
       "      <td>PC 17599</td>\n",
       "      <td>71.2833</td>\n",
       "      <td>C85</td>\n",
       "      <td>C</td>\n",
       "    </tr>\n",
       "    <tr>\n",
       "      <th>2</th>\n",
       "      <td>1</td>\n",
       "      <td>3</td>\n",
       "      <td>Heikkinen, Miss. Laina</td>\n",
       "      <td>female</td>\n",
       "      <td>26.0</td>\n",
       "      <td>0</td>\n",
       "      <td>0</td>\n",
       "      <td>STON/O2. 3101282</td>\n",
       "      <td>7.9250</td>\n",
       "      <td>NaN</td>\n",
       "      <td>S</td>\n",
       "    </tr>\n",
       "    <tr>\n",
       "      <th>3</th>\n",
       "      <td>1</td>\n",
       "      <td>1</td>\n",
       "      <td>Futrelle, Mrs. Jacques Heath (Lily May Peel)</td>\n",
       "      <td>female</td>\n",
       "      <td>35.0</td>\n",
       "      <td>1</td>\n",
       "      <td>0</td>\n",
       "      <td>113803</td>\n",
       "      <td>53.1000</td>\n",
       "      <td>C123</td>\n",
       "      <td>S</td>\n",
       "    </tr>\n",
       "    <tr>\n",
       "      <th>4</th>\n",
       "      <td>0</td>\n",
       "      <td>3</td>\n",
       "      <td>Allen, Mr. William Henry</td>\n",
       "      <td>male</td>\n",
       "      <td>35.0</td>\n",
       "      <td>0</td>\n",
       "      <td>0</td>\n",
       "      <td>373450</td>\n",
       "      <td>8.0500</td>\n",
       "      <td>NaN</td>\n",
       "      <td>S</td>\n",
       "    </tr>\n",
       "  </tbody>\n",
       "</table>\n",
       "</div>"
      ],
      "text/plain": [
       "   survived  pclass                                               name  \\\n",
       "0         0       3                            Braund, Mr. Owen Harris   \n",
       "1         1       1  Cumings, Mrs. John Bradley (Florence Briggs Th...   \n",
       "2         1       3                             Heikkinen, Miss. Laina   \n",
       "3         1       1       Futrelle, Mrs. Jacques Heath (Lily May Peel)   \n",
       "4         0       3                           Allen, Mr. William Henry   \n",
       "\n",
       "      sex   age  sibsp  parch            ticket     fare cabin embarked  \n",
       "0    male  22.0      1      0         A/5 21171   7.2500   NaN        S  \n",
       "1  female  38.0      1      0          PC 17599  71.2833   C85        C  \n",
       "2  female  26.0      0      0  STON/O2. 3101282   7.9250   NaN        S  \n",
       "3  female  35.0      1      0            113803  53.1000  C123        S  \n",
       "4    male  35.0      0      0            373450   8.0500   NaN        S  "
      ]
     },
     "execution_count": 6,
     "metadata": {},
     "output_type": "execute_result"
    }
   ],
   "source": [
    "titanic.head()"
   ]
  },
  {
   "cell_type": "markdown",
   "metadata": {},
   "source": [
    "#### Use the built-in  `.value_counts()` function to count the values of each type in the `pclass` column:"
   ]
  },
  {
   "cell_type": "code",
   "execution_count": 7,
   "metadata": {},
   "outputs": [
    {
     "data": {
      "text/plain": [
       "3    491\n",
       "1    216\n",
       "2    184\n",
       "Name: pclass, dtype: int64"
      ]
     },
     "execution_count": 7,
     "metadata": {},
     "output_type": "execute_result"
    }
   ],
   "source": [
    "titanic.pclass.value_counts()"
   ]
  },
  {
   "cell_type": "markdown",
   "metadata": {},
   "source": [
    "#### Pull up descriptive statistics for each variable using the built-in `.describe()` function:"
   ]
  },
  {
   "cell_type": "code",
   "execution_count": 8,
   "metadata": {},
   "outputs": [
    {
     "data": {
      "text/html": [
       "<div>\n",
       "<style scoped>\n",
       "    .dataframe tbody tr th:only-of-type {\n",
       "        vertical-align: middle;\n",
       "    }\n",
       "\n",
       "    .dataframe tbody tr th {\n",
       "        vertical-align: top;\n",
       "    }\n",
       "\n",
       "    .dataframe thead th {\n",
       "        text-align: right;\n",
       "    }\n",
       "</style>\n",
       "<table border=\"1\" class=\"dataframe\">\n",
       "  <thead>\n",
       "    <tr style=\"text-align: right;\">\n",
       "      <th></th>\n",
       "      <th>survived</th>\n",
       "      <th>pclass</th>\n",
       "      <th>age</th>\n",
       "      <th>sibsp</th>\n",
       "      <th>parch</th>\n",
       "      <th>fare</th>\n",
       "    </tr>\n",
       "  </thead>\n",
       "  <tbody>\n",
       "    <tr>\n",
       "      <th>count</th>\n",
       "      <td>891.000000</td>\n",
       "      <td>891.000000</td>\n",
       "      <td>714.000000</td>\n",
       "      <td>891.000000</td>\n",
       "      <td>891.000000</td>\n",
       "      <td>891.000000</td>\n",
       "    </tr>\n",
       "    <tr>\n",
       "      <th>mean</th>\n",
       "      <td>0.383838</td>\n",
       "      <td>2.308642</td>\n",
       "      <td>29.699118</td>\n",
       "      <td>0.523008</td>\n",
       "      <td>0.381594</td>\n",
       "      <td>32.204208</td>\n",
       "    </tr>\n",
       "    <tr>\n",
       "      <th>std</th>\n",
       "      <td>0.486592</td>\n",
       "      <td>0.836071</td>\n",
       "      <td>14.526497</td>\n",
       "      <td>1.102743</td>\n",
       "      <td>0.806057</td>\n",
       "      <td>49.693429</td>\n",
       "    </tr>\n",
       "    <tr>\n",
       "      <th>min</th>\n",
       "      <td>0.000000</td>\n",
       "      <td>1.000000</td>\n",
       "      <td>0.420000</td>\n",
       "      <td>0.000000</td>\n",
       "      <td>0.000000</td>\n",
       "      <td>0.000000</td>\n",
       "    </tr>\n",
       "    <tr>\n",
       "      <th>25%</th>\n",
       "      <td>0.000000</td>\n",
       "      <td>2.000000</td>\n",
       "      <td>20.125000</td>\n",
       "      <td>0.000000</td>\n",
       "      <td>0.000000</td>\n",
       "      <td>7.910400</td>\n",
       "    </tr>\n",
       "    <tr>\n",
       "      <th>50%</th>\n",
       "      <td>0.000000</td>\n",
       "      <td>3.000000</td>\n",
       "      <td>28.000000</td>\n",
       "      <td>0.000000</td>\n",
       "      <td>0.000000</td>\n",
       "      <td>14.454200</td>\n",
       "    </tr>\n",
       "    <tr>\n",
       "      <th>75%</th>\n",
       "      <td>1.000000</td>\n",
       "      <td>3.000000</td>\n",
       "      <td>38.000000</td>\n",
       "      <td>1.000000</td>\n",
       "      <td>0.000000</td>\n",
       "      <td>31.000000</td>\n",
       "    </tr>\n",
       "    <tr>\n",
       "      <th>max</th>\n",
       "      <td>1.000000</td>\n",
       "      <td>3.000000</td>\n",
       "      <td>80.000000</td>\n",
       "      <td>8.000000</td>\n",
       "      <td>6.000000</td>\n",
       "      <td>512.329200</td>\n",
       "    </tr>\n",
       "  </tbody>\n",
       "</table>\n",
       "</div>"
      ],
      "text/plain": [
       "         survived      pclass         age       sibsp       parch        fare\n",
       "count  891.000000  891.000000  714.000000  891.000000  891.000000  891.000000\n",
       "mean     0.383838    2.308642   29.699118    0.523008    0.381594   32.204208\n",
       "std      0.486592    0.836071   14.526497    1.102743    0.806057   49.693429\n",
       "min      0.000000    1.000000    0.420000    0.000000    0.000000    0.000000\n",
       "25%      0.000000    2.000000   20.125000    0.000000    0.000000    7.910400\n",
       "50%      0.000000    3.000000   28.000000    0.000000    0.000000   14.454200\n",
       "75%      1.000000    3.000000   38.000000    1.000000    0.000000   31.000000\n",
       "max      1.000000    3.000000   80.000000    8.000000    6.000000  512.329200"
      ]
     },
     "execution_count": 8,
     "metadata": {},
     "output_type": "execute_result"
    }
   ],
   "source": [
    "titanic.describe()"
   ]
  },
  {
   "cell_type": "markdown",
   "metadata": {},
   "source": [
    "### Diagnosing Data Problems\n",
    "\n",
    "- Whenever you get a new data set, the fastest way to find mistakes and inconsistencies is to look at the descriptive statistics.\n",
    "  - If anything looks too high or too low relative to your experience, there may be issues with the data collection.\n",
    "- Your data may contain a lot of missing values and may need to be cleaned meticulously before they can be combined with other data.\n",
    "  - You can take a quick average or moving average to smooth out the data and combine that to preview your results before you embark on your much longer data-cleaning journey.\n",
    "  - Sometimes filling in missing values with their means or medians will be the best solution for dealing with missing data. Other times, you may want to drop the offending rows or do real imputation."
   ]
  },
  {
   "cell_type": "markdown",
   "metadata": {},
   "source": [
    "#### Code-Along/ Exercise"
   ]
  },
  {
   "cell_type": "code",
   "execution_count": 29,
   "metadata": {
    "collapsed": true
   },
   "outputs": [],
   "source": [
    "# Find the mean of the titanic.fare series using base Python:\n",
    "# A:"
   ]
  },
  {
   "cell_type": "markdown",
   "metadata": {},
   "source": [
    "Click here for solution\n",
    "\n",
    "<span style ='color:white'>\n",
    "sum=0\n",
    "for fare in titanic.fare:\n",
    "    sum+= fare\n",
    "    \n",
    "print('mean fare: ' + str(sum/len(titanic.fare)))"
   ]
  },
  {
   "cell_type": "code",
   "execution_count": 14,
   "metadata": {},
   "outputs": [],
   "source": [
    "# Find the mean of the titanic.fare series using NumPy:\n",
    "# A:"
   ]
  },
  {
   "cell_type": "markdown",
   "metadata": {},
   "source": [
    "Click here for solution\n",
    "\n",
    "<span style ='color:white'>\n",
    "np.mean(titanic.fare)"
   ]
  },
  {
   "cell_type": "code",
   "execution_count": 31,
   "metadata": {
    "collapsed": true
   },
   "outputs": [],
   "source": [
    "# Find the mean of the titanic.fare series using Pandas:\n",
    "# A:"
   ]
  },
  {
   "cell_type": "markdown",
   "metadata": {},
   "source": [
    "Click here for solution\n",
    "\n",
    "<span style ='color:white'>\n",
    "titanic.fare.mean()"
   ]
  },
  {
   "cell_type": "code",
   "execution_count": 32,
   "metadata": {
    "collapsed": true
   },
   "outputs": [],
   "source": [
    "# What was the median fare paid (using Pandas)?\n",
    "# A:"
   ]
  },
  {
   "cell_type": "markdown",
   "metadata": {},
   "source": [
    "Click here for solution\n",
    "\n",
    "<span style ='color:white'>\n",
    "titanic.fare.median()"
   ]
  },
  {
   "cell_type": "code",
   "execution_count": 16,
   "metadata": {},
   "outputs": [],
   "source": [
    "# Use Pandas to find the most common fare paid on the Titanic:\n",
    "# A:"
   ]
  },
  {
   "cell_type": "markdown",
   "metadata": {},
   "source": [
    "Click here for solution\n",
    "\n",
    "<span style ='color:white'>\n",
    "titanic.fare.value_counts()"
   ]
  },
  {
   "cell_type": "markdown",
   "metadata": {},
   "source": [
    "\n",
    "\n",
    "#### Assign the first 5 rows of titanic age data to a variable:"
   ]
  },
  {
   "cell_type": "code",
   "execution_count": 17,
   "metadata": {},
   "outputs": [],
   "source": [
    "# A:"
   ]
  },
  {
   "cell_type": "markdown",
   "metadata": {},
   "source": [
    "Click here for solution\n",
    "\n",
    "<span style ='color:white'>\n",
    "head=titanic.age.head()"
   ]
  },
  {
   "cell_type": "markdown",
   "metadata": {},
   "source": [
    "#### Calculate the mean by hand:"
   ]
  },
  {
   "cell_type": "code",
   "execution_count": 22,
   "metadata": {},
   "outputs": [],
   "source": [
    "# A"
   ]
  },
  {
   "cell_type": "markdown",
   "metadata": {},
   "source": [
    "Click here for solution\n",
    "\n",
    "<span style ='color:white'>\n",
    "\n",
    "(22+38+26+35+35)/5 = 31.2"
   ]
  },
  {
   "cell_type": "markdown",
   "metadata": {},
   "source": [
    "#### Calculate the variance by hand:"
   ]
  },
  {
   "cell_type": "code",
   "execution_count": null,
   "metadata": {
    "collapsed": true
   },
   "outputs": [],
   "source": [
    "# A:"
   ]
  },
  {
   "cell_type": "markdown",
   "metadata": {},
   "source": [
    "Click here for solution\n",
    "\n",
    "<span style ='color:white'>\n",
    "\n",
    "sqrt(((22-32.4)^2+(38-32.4)^2+(26-32.4)^2+(35-32.4)^2+(35-32.4)^2)/4) = 6.11228271597445"
   ]
  },
  {
   "cell_type": "markdown",
   "metadata": {},
   "source": [
    "#### Calculate the variance and the standard deviation using Pandas:"
   ]
  },
  {
   "cell_type": "code",
   "execution_count": 37,
   "metadata": {
    "collapsed": true
   },
   "outputs": [],
   "source": [
    "# A:"
   ]
  },
  {
   "cell_type": "markdown",
   "metadata": {},
   "source": [
    "Click here for solution\n",
    "\n",
    "<span style ='color:white'>\n",
    "head.mean()\n",
    "head.std()"
   ]
  },
  {
   "cell_type": "markdown",
   "metadata": {},
   "source": [
    "<a id=\"our-first-model\"></a>\n",
    "## Our First Model\n",
    "---"
   ]
  },
  {
   "cell_type": "markdown",
   "metadata": {},
   "source": [
    "In this section, we will make a **mathematical model** of data. When we say **model**, we mean it in the same sense that a toy car is a **model** of a real car. If we mainly care about appearance, the toy car model is an excellent model. However, the toy car fails to accurately represent other aspects of the car. For example, we cannot use a toy car to test how the actual car would perform in a collision.\n",
    "\n",
    "In data science, we might take a rich, complex person and model that person solely as a two-dimensional vector: _(age, smokes cigarettes)_. For example: $(90, 1)$, $(28, 0)$, and $(52, 1)$, where $1$ indicates \"smokes cigarettes.\" This model of a complex person obviously fails to account for many things. However, if we primarily care about modeling health risk, it might provide valuable insight.\n",
    "\n",
    "Now that we have superficially modeled a complex person, we might determine a formula that evaluates risk. For example, an older person tends to have worse health, as does a person who smokes. So, we might deem someone as having risk should `age + 50*smokes > 100`. \n",
    "\n",
    "This is a **mathematical model**, as we use math to assess risk. It could be mostly accurate. However, there are surely elderly people who smoke who are in excellent health.\n",
    "\n",
    "\n",
    "---"
   ]
  },
  {
   "cell_type": "markdown",
   "metadata": {},
   "source": [
    "Let's make our first model from scratch. We'll use it predict the `fare` column in the Titanic data. So what data will we use? Actually, none."
   ]
  },
  {
   "cell_type": "markdown",
   "metadata": {},
   "source": [
    "The simplest model we can build is an estimation of the mean, median, or most common value. If we have no feature matrix and only an outcome, this is the best approach to make a prediction using only empirical data. "
   ]
  },
  {
   "cell_type": "markdown",
   "metadata": {},
   "source": [
    "This seems silly, but we'll actually use it all the time to create a baseline of how well we do with no data and determine whether or not our more sophisticated models make an improvement."
   ]
  },
  {
   "cell_type": "markdown",
   "metadata": {},
   "source": [
    "You can find out more about dummy estimators [here](http://scikit-learn.org/stable/modules/model_evaluation.html#dummy-estimators)."
   ]
  },
  {
   "cell_type": "markdown",
   "metadata": {},
   "source": [
    "#### Get the `fare` column from the Titanic data and store it in variable `y`:"
   ]
  },
  {
   "cell_type": "code",
   "execution_count": 26,
   "metadata": {},
   "outputs": [],
   "source": [
    "# A:"
   ]
  },
  {
   "cell_type": "markdown",
   "metadata": {},
   "source": [
    "Click here for solution\n",
    "\n",
    "<span style ='color:white'>\n",
    "y=titanic.fare"
   ]
  },
  {
   "cell_type": "markdown",
   "metadata": {},
   "source": [
    "#### Create a variable called `y_pred` which is the mean of `y`."
   ]
  },
  {
   "cell_type": "code",
   "execution_count": 28,
   "metadata": {},
   "outputs": [],
   "source": [
    "# A:"
   ]
  },
  {
   "cell_type": "markdown",
   "metadata": {},
   "source": [
    "Click here for solution\n",
    "\n",
    "<span style ='color:white'>\n",
    "y_pred=y.mean()"
   ]
  },
  {
   "cell_type": "markdown",
   "metadata": {},
   "source": [
    "#### Find the average squared distance between each prediction and its actual value:\n",
    "\n",
    "This is known as the mean squared error (MSE)."
   ]
  },
  {
   "cell_type": "code",
   "execution_count": 32,
   "metadata": {},
   "outputs": [],
   "source": [
    "# A:"
   ]
  },
  {
   "cell_type": "markdown",
   "metadata": {},
   "source": [
    "Click here for solution\n",
    "\n",
    "<span style ='color:white'>\n",
    "sqrd_dist=0\n",
    "for fare in y:\n",
    "    sqrd_dist+=(fare-y_pred)**2\n",
    "    \n",
    "print('MSE: ' + str(sqrd_dist/len(y)))"
   ]
  },
  {
   "cell_type": "markdown",
   "metadata": {},
   "source": [
    "#### Calculate the root mean squared error (RMSE), the square root of the MSE:"
   ]
  },
  {
   "cell_type": "code",
   "execution_count": 41,
   "metadata": {
    "collapsed": true
   },
   "outputs": [],
   "source": [
    "# A:"
   ]
  },
  {
   "cell_type": "markdown",
   "metadata": {},
   "source": [
    "Click here for solution\n",
    "\n",
    "<span style ='color:white'>\n",
    "\n",
    "print('RMSE: ' + str(np.sqrt(sqrd_dist/len(y))))"
   ]
  },
  {
   "cell_type": "markdown",
   "metadata": {},
   "source": [
    "<a id=\"a-short-introduction-to-model-bias-and-variance\"></a>\n",
    "# Section 2: Introduction to Model Bias and Variance \n",
    "\n",
    "---\n",
    "\n",
    "- **Objective:** Describe the bias and variance of statistical estimators."
   ]
  },
  {
   "cell_type": "markdown",
   "metadata": {},
   "source": [
    "In simple terms, **bias** shows how accurate a model is in its predictions. (It has **low bias** if it hits the bullseye!)\n",
    "\n",
    "**Variance** shows how reliable a model is in its performance. (It has **low variance** if the points are predicted consistently!)\n",
    "\n",
    "These characteristics have important interactions, but we will save that for later.\n",
    "\n",
    "![Bias and Variance](assets/images/biasVsVarianceImage.png)"
   ]
  },
  {
   "cell_type": "markdown",
   "metadata": {},
   "source": [
    "Remember how we just calculated mean squared error to determine the accuracy of our prediction? It turns out we can do this for any statistical estimator, including mean, variance, and machine learning models."
   ]
  },
  {
   "cell_type": "markdown",
   "metadata": {},
   "source": [
    "We can even decompose mean squared error to identify where the source of error comes from."
   ]
  },
  {
   "cell_type": "markdown",
   "metadata": {},
   "source": [
    "<a id=\"correlation-and-association\"></a>\n",
    "## Correlation and Association\n",
    "---\n",
    "\n",
    "- **Objective:** Describe characteristics and trends in a data set using visualizations.\n",
    "\n",
    "Correlation measures how variables related to each other.\n",
    "\n",
    "Typically, we talk about the Pearson correlation coefficient — a measure of **linear** association.\n",
    "\n",
    "We refer to perfect correlation as **colinearity**.\n",
    "\n",
    "The following are a few correlation coefficients. Note that if both variables trend upward, the coefficient is positive. If one trends opposite the other, it is negative. \n",
    "\n",
    "It is important that you always look at your data visually — the coefficient by itself can be misleading:"
   ]
  },
  {
   "cell_type": "markdown",
   "metadata": {},
   "source": [
    "![Example correlation values](./assets/images/correlation_examples.png)"
   ]
  },
  {
   "cell_type": "markdown",
   "metadata": {},
   "source": [
    "<a id=\"codealong-correlation-in-pandas\"></a>\n",
    "# Section 3: Code-Along: Correlation in Pandas\n",
    "\n",
    "**Objective:** Explore options for measuring and visualizing correlation in Pandas."
   ]
  },
  {
   "cell_type": "markdown",
   "metadata": {},
   "source": [
    "#### Display the correlation matrix for all Titanic variables:"
   ]
  },
  {
   "cell_type": "code",
   "execution_count": 47,
   "metadata": {
    "collapsed": true
   },
   "outputs": [],
   "source": [
    "# A:"
   ]
  },
  {
   "cell_type": "markdown",
   "metadata": {},
   "source": [
    "Click here for solution\n",
    "\n",
    "<span style ='color:white'>\n",
    "titanic.corr()"
   ]
  },
  {
   "cell_type": "markdown",
   "metadata": {},
   "source": [
    "#### Use Seaborn to plot a heat map of the correlation matrix:\n",
    "\n",
    "The `sns.heatmap()` function will accomplish this.\n",
    "\n",
    "- Generate a correlation matrix from the Titanic data using the `.corr()` method.\n",
    "- Pass the correlation matrix into `sns.heatmap()` as its only parameter."
   ]
  },
  {
   "cell_type": "code",
   "execution_count": 48,
   "metadata": {
    "collapsed": true
   },
   "outputs": [],
   "source": [
    "# A:"
   ]
  },
  {
   "cell_type": "markdown",
   "metadata": {},
   "source": [
    "Click here for solution\n",
    "\n",
    "<span style ='color:white'>\n",
    "sns.heatmap(titanic.corr())"
   ]
  },
  {
   "cell_type": "code",
   "execution_count": 49,
   "metadata": {
    "collapsed": true
   },
   "outputs": [],
   "source": [
    "# Take a closer look at the survived and fare variables using a scatter plot\n",
    "\n",
    "# Is correlation a good way to inspect the association of fare and survival?"
   ]
  },
  {
   "cell_type": "markdown",
   "metadata": {},
   "source": [
    "<a id=\"the-normal-distribution\"></a>\n",
    "# Section 4: The Normal Distribution\n",
    "---\n",
    "\n",
    "- **Objective:** Identify a normal distribution within a data set using summary statistics and data visualizations."
   ]
  },
  {
   "cell_type": "markdown",
   "metadata": {},
   "source": [
    "###  Math Review\n",
    "- What is an event space?\n",
    "  - A listing of all possible occurrences.\n",
    "- What is a probability distribution?\n",
    "  - A function that describes how events occur in an event space.\n",
    "- What are general properties of probability distributions?\n",
    "  - All probabilities of an event are between 0 and 1.\n",
    "  - The probability that something occurs is almost certain, or 1.\n",
    "  "
   ]
  },
  {
   "cell_type": "markdown",
   "metadata": {},
   "source": [
    "<a id=\"what-is-the-normal-distribution\"></a>\n",
    "### What is the Normal Distribution?\n",
    "- A normal distribution is often a key assumption to many models.\n",
    "  - In practice, if the normal distribution assumption is not met, it's not the end of the world. Your model is just less efficient in most cases.\n",
    "\n",
    "- The normal distribution depends on the mean and the standard deviation.\n",
    "\n",
    "- The mean determines the center of the distribution. The standard deviation determines the height and width of the distribution.\n",
    "\n",
    "- Normal distributions are symmetric, bell-shaped curves.\n",
    "\n",
    "- When the standard deviation is large, the curve is short and wide.\n",
    "\n",
    "- When the standard deviation is small, the curve is tall and narrow.\n",
    "\n",
    "![normal distribution](assets/images/normal.png)\n"
   ]
  },
  {
   "cell_type": "markdown",
   "metadata": {},
   "source": [
    "#### Why do we care about normal distributions?\n",
    "\n",
    "- They often show up in nature.\n",
    "- Aggregated processes tend to distribute normally, regardless of their underlying distribution — provided that the processes are uncorrelated or weakly correlated (central limit theorem).\n",
    "- They offer effective simplification that makes it easy to make approximations."
   ]
  },
  {
   "cell_type": "markdown",
   "metadata": {},
   "source": [
    "#### Plot a histogram of 1,000 samples from a random normal distribution:\n",
    "\n",
    "The `np.random.randn(numsamples)` function will draw from a random normal distribution with a mean of 0 and a standard deviation of 1.\n",
    "\n",
    "- To plot a histogram, pass a NumPy array with 1000 samples as the only parameter to `plt.hist()`.\n",
    "- Change the number of bins using the keyword argument `bins`, e.g. `plt.hist(mydata, bins=50)`"
   ]
  },
  {
   "cell_type": "code",
   "execution_count": 6,
   "metadata": {},
   "outputs": [],
   "source": [
    "# A:"
   ]
  },
  {
   "cell_type": "markdown",
   "metadata": {},
   "source": [
    "Click here for solution\n",
    "\n",
    "<span style ='color:white'>\n",
    "plt.hist(np.random.randn(1000),bins=50);"
   ]
  },
  {
   "cell_type": "markdown",
   "metadata": {},
   "source": [
    "<a id=\"skewness\"></a>\n",
    "###  Skewness\n",
    "- Skewness is a measure of the asymmetry of the distribution of a random variable about its mean.\n",
    "- Skewness can be positive or negative, or even undefined.\n",
    "- Notice that the mean, median, and mode are the same when there is no skew.\n",
    "\n",
    "![skewness](assets/images/skewness---mean-median-mode.jpg)"
   ]
  },
  {
   "cell_type": "markdown",
   "metadata": {},
   "source": [
    "#### Plot a lognormal distribution generated with NumPy.\n",
    "\n",
    "Take 1,000 samples using `np.random.lognormal(size=numsamples)` and plot them on a histogram."
   ]
  },
  {
   "cell_type": "code",
   "execution_count": 51,
   "metadata": {
    "collapsed": true
   },
   "outputs": [],
   "source": [
    "# A:"
   ]
  },
  {
   "cell_type": "markdown",
   "metadata": {},
   "source": [
    "Click here for solution\n",
    "\n",
    "<span style ='color:white'>\n",
    "plt.hist(np.random.lognormal(size=1000),bins=50);"
   ]
  },
  {
   "cell_type": "markdown",
   "metadata": {},
   "source": [
    "#####  Real World Application - When mindfullness beats complexity\n",
    "- Skewness is surprisingly important.\n",
    "- Most algorithms implicitly use the mean by default when making approximations.\n",
    "- If you know your data is heavily skewed, you may have to either transform your data or set your algorithms to work with the median."
   ]
  },
  {
   "cell_type": "markdown",
   "metadata": {},
   "source": [
    "<a id=\"kurtosis\"></a>\n",
    "### Kurtosis\n",
    "- Kurtosis is a measure of whether the data are peaked or flat, relative to a normal distribution.\n",
    "- Data sets with high kurtosis tend to have a distinct peak near the mean, decline rather rapidly, and have heavy tails. \n",
    "\n",
    "![kurtosis](assets/images/kurtosis.jpg)"
   ]
  },
  {
   "cell_type": "markdown",
   "metadata": {},
   "source": [
    "####  Real-World Application: Risk Analysis\n",
    "- Long-tailed distributions with high kurtosis elude intuition; we naturally think the event is too improbable to pay attention to.\n",
    "- It's often the case that there is a large cost associated with a low-probability event, as is the case with hurricane damage.\n",
    "- It's unlikely you will get hit by a Category 5 hurricane, but when you do, the damage will be catastrophic.\n",
    "- Pay attention to what happens at the tails and whether this influences the problem at hand.\n",
    "- In these cases, understanding the costs may be more important than understanding the risks."
   ]
  },
  {
   "cell_type": "markdown",
   "metadata": {},
   "source": [
    "<a id=\"determining-the-distribution-of-your-data\"></a>\n",
    "## Determining the Distribution of Your Data\n",
    "---\n",
    "\n",
    "**Objective:** Create basic data visualizations, including scatterplots, box plots, and histograms."
   ]
  },
  {
   "cell_type": "markdown",
   "metadata": {},
   "source": [
    "![](./assets/images/distributions.png)"
   ]
  },
  {
   "cell_type": "markdown",
   "metadata": {},
   "source": [
    "#### Use the `.hist()` function of your Titantic DataFrame to plot histograms of all the variables in your data.\n",
    "\n",
    "- The function `plt.hist(data)` calls the Matplotlib library directly.\n",
    "- However, each DataFrame has its own `hist()` method that by default plots one histogram per column. \n",
    "- Given a DataFrame `my_df`, it can be called like this: `my_df.hist()`. "
   ]
  },
  {
   "cell_type": "markdown",
   "metadata": {
    "collapsed": true
   },
   "source": [
    "### Plot all variables in the Titanic data set using histograms:"
   ]
  },
  {
   "cell_type": "code",
   "execution_count": null,
   "metadata": {},
   "outputs": [],
   "source": [
    "# A:"
   ]
  },
  {
   "cell_type": "markdown",
   "metadata": {},
   "source": [
    "Click here for solution\n",
    "\n",
    "<span style ='color:white'>\n",
    "fig, ax=plt.subplots(figsize=(6,8))\n",
    "titanic.hist(ax=ax);"
   ]
  },
  {
   "cell_type": "markdown",
   "metadata": {},
   "source": [
    "#### Use the built-in `.plot.box()` function of your Titanic DataFrame to plot box plots of your variables.\n",
    "\n",
    "- Given a DataFrame, a box plot can be made where each column is one tick on the x axis.\n",
    "- To do this, it can be called like this: `my_df.plot.box()`.\n",
    "- Try using the keyword argument `showfliers`, e.g. `showfliers=False`."
   ]
  },
  {
   "cell_type": "markdown",
   "metadata": {
    "collapsed": true
   },
   "source": [
    "### Plotting all histograms can be unweildly; box plots can be more concise:"
   ]
  },
  {
   "cell_type": "code",
   "execution_count": null,
   "metadata": {},
   "outputs": [],
   "source": [
    "# A:"
   ]
  },
  {
   "cell_type": "markdown",
   "metadata": {},
   "source": [
    "Click here for solution\n",
    "\n",
    "<span style ='color:white'>\n",
    "titanic.plot.box()"
   ]
  },
  {
   "cell_type": "markdown",
   "metadata": {},
   "source": [
    "<a id=\"exercise\"></a>\n",
    "## Exercise\n",
    "\n",
    "1. Look at the Titanic data variables.\n",
    "- Are any of them normal?\n",
    "- Are any skewed?\n",
    "- How might this affect our modeling?"
   ]
  },
  {
   "cell_type": "code",
   "execution_count": null,
   "metadata": {},
   "outputs": [],
   "source": [
    "# A:"
   ]
  },
  {
   "cell_type": "markdown",
   "metadata": {},
   "source": [
    "![](./assets/images/visualization_flow_chart.jpg)"
   ]
  },
  {
   "cell_type": "markdown",
   "metadata": {},
   "source": [
    "<a id=\"topic-review\"></a>\n",
    "## Lesson Review\n",
    "---\n",
    "\n",
    "- We covered several different types of summary statistics, what are they?\n",
    "- We covered three different types of visualizations, which ones?\n",
    "- Describe bias and variance and why they are important.\n",
    "- What are some important characteristics of distributions?\n",
    "\n",
    "**Any further questions?**"
   ]
  },
  {
   "cell_type": "code",
   "execution_count": null,
   "metadata": {
    "collapsed": true
   },
   "outputs": [],
   "source": []
  }
 ],
 "metadata": {
  "kernelspec": {
   "display_name": "Python 3",
   "language": "python",
   "name": "python3"
  },
  "language_info": {
   "codemirror_mode": {
    "name": "ipython",
    "version": 3
   },
   "file_extension": ".py",
   "mimetype": "text/x-python",
   "name": "python",
   "nbconvert_exporter": "python",
   "pygments_lexer": "ipython3",
   "version": "3.7.6"
  }
 },
 "nbformat": 4,
 "nbformat_minor": 1
}
