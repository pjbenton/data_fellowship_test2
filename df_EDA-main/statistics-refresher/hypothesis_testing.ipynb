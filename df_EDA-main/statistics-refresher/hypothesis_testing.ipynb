{
 "cells": [
  {
   "cell_type": "code",
   "execution_count": 1,
   "metadata": {},
   "outputs": [
    {
     "data": {
      "text/html": [
       "<script>\n",
       "code_show=true; \n",
       "function code_toggle() {\n",
       "    if (code_show){\n",
       "        $('div.cell.code_cell.rendered.selected div.input').hide();\n",
       "    } else {\n",
       "        $('div.cell.code_cell.rendered.selected div.input').show();\n",
       "    }\n",
       "    code_show = !code_show\n",
       "} \n",
       "$( document ).ready(code_toggle);\n",
       "\n",
       "var flagHighlight=0;\n",
       "var flagHighlightCode = 0;\n",
       "var flagMagnifyCell = 0;\n",
       "var flagMagnifyCode =0;\n",
       "var flagMagnifyOutputs=0;\n",
       "var flagEnlarge = 0;\n",
       "var flagHighlightOutput = 0;\n",
       "\n",
       "function enlarge_markdown(){\n",
       "    \n",
       "if(flagEnlarge==0){\n",
       "flagEnlarges = 1;\n",
       "document.getElementById('button7').classList.toggle('active_button');\n",
       "var els = document.getElementsByClassName('text_cell');\n",
       "var i;\n",
       "for(i=0;i<els.length;i++){\n",
       "els[i].classList.toggle('enlarged');}}\n",
       "else{\n",
       "flagEnlarge = 0;\n",
       "document.getElementById('button7').classList.toggle('active_button');\n",
       "var els = document.getElementsByClassName('text_cell');\n",
       "var i;\n",
       "for(i=0;i<els.length;i++){\n",
       "els[i].classList.remove('enlarged');\n",
       "}};};\n",
       "\n",
       "\n",
       "function magnify_outputs(){\n",
       "    \n",
       "if(flagMagnifyOutputs==0){\n",
       "flagMagnifyOutputs = 1;\n",
       "document.getElementById('button5').classList.toggle('active_button');\n",
       "var els = document.getElementsByClassName('output_wrapper');\n",
       "var i;\n",
       "for(i=0;i<els.length;i++){\n",
       "els[i].classList.toggle('magnified_output');}}\n",
       "else{\n",
       "flagMagnifyOutputs = 0;\n",
       "document.getElementById('button5').classList.toggle('active_button');\n",
       "var els = document.getElementsByClassName('output_wrapper');\n",
       "var i;\n",
       "for(i=0;i<els.length;i++){\n",
       "els[i].classList.remove('magnified_output');\n",
       "}};};\n",
       "\n",
       "function magnify_output_lines(){\n",
       "    \n",
       "if(flagHighlightOutput==0){\n",
       "flagHighlightOutput = 1;\n",
       "document.getElementById('button6').classList.toggle('active_button');\n",
       "var els = document.getElementsByClassName('output_wrapper');\n",
       "var i;\n",
       "for(i=0;i<els.length;i++){\n",
       "els[i].classList.toggle('magnified_output_lines');}}\n",
       "else{flagHighlightOutput = 0;\n",
       "document.getElementById('button6').classList.toggle('active_button');\n",
       "var els = document.getElementsByClassName('output_wrapper');\n",
       "var i;\n",
       "for(i=0;i<els.length;i++){\n",
       "els[i].classList.remove('magnified_output_lines');\n",
       "}};};\n",
       "\n",
       "\n",
       "function highlight_cell(){\n",
       "    \n",
       "if(flagHighlight==0){\n",
       "flagHighlight = 1;\n",
       "document.getElementById('button4').classList.toggle('active_button');\n",
       "var els = document.getElementsByClassName('CodeMirror-lines');\n",
       "var i;\n",
       "for(i=0;i<els.length;i++){\n",
       "els[i].classList.toggle('highlighted');}}\n",
       "else{flagHighlight = 0;\n",
       "document.getElementById('button4').classList.toggle('active_button');\n",
       "var els = document.getElementsByClassName('CodeMirror-lines');\n",
       "var i;\n",
       "for(i=0;i<els.length;i++){\n",
       "els[i].classList.remove('highlighted');\n",
       "}};};\n",
       "\n",
       "\n",
       "function highlight_code(){   \n",
       "if(flagHighlightCode==0){\n",
       "\n",
       "flagHighlightCode = 1;\n",
       "document.getElementById('button3').classList.toggle('active_button');\n",
       "var els = document.getElementsByClassName('CodeMirror-lines');\n",
       "var i;\n",
       "for(i=0;i<els.length;i++){\n",
       "els[i].classList.toggle('highlighted_code');}}   \n",
       "else{flagHighlightCode = 0;\n",
       "document.getElementById('button3').classList.toggle('active_button');\n",
       "var els = document.getElementsByClassName('CodeMirror-lines');\n",
       "var i;\n",
       "for(i=0;i<els.length;i++){\n",
       "els[i].classList.remove('highlighted_code');\n",
       "}};};\n",
       "\n",
       "function magnify_cell(){   \n",
       "if(flagMagnifyCell==0){\n",
       "flagMagnifyCell = 1;\n",
       "document.getElementById('button2').classList.toggle('active_button');\n",
       "var els = document.getElementsByClassName('CodeMirror-lines');\n",
       "var i;\n",
       "for(i=0;i<els.length;i++){\n",
       "els[i].classList.toggle('magnified_cell');}}   \n",
       "else{flagMagnifyCell = 0;\n",
       "document.getElementById('button2').classList.toggle('active_button');\n",
       "var els = document.getElementsByClassName('CodeMirror-lines');\n",
       "var i;\n",
       "for(i=0;i<els.length;i++){\n",
       "els[i].classList.remove('magnified_cell');\n",
       "}};};\n",
       "\n",
       "function magnify_code(){   \n",
       "if(flagMagnifyCode==0){\n",
       "flagMagnifyCode = 1;\n",
       "document.getElementById('button1').classList.toggle('active_button');\n",
       "var els = document.getElementsByClassName('CodeMirror-lines');\n",
       "var i;\n",
       "for(i=0;i<els.length;i++){\n",
       "els[i].classList.toggle('magnified_code');}}   \n",
       "else{flagMagnifyCode = 0;\n",
       "document.getElementById('button1').classList.toggle('active_button');\n",
       "var els = document.getElementsByClassName('CodeMirror-lines');\n",
       "var i;\n",
       "for(i=0;i<els.length;i++){\n",
       "els[i].classList.remove('magnified_code');\n",
       "}};};\n",
       "\n",
       "\n",
       "document.getElementsByTagName(\"BODY\")[0].insertAdjacentHTML(\"afterend\", \"<div id='help_box'></div>\");\n",
       "document.getElementsByTagName(\"BODY\")[0].insertAdjacentHTML(\"afterend\",\"<img src= 'https://img.flaticon.com/icons/png/512/25/25186.png?size=1200x630f&pad=10,10,10,10&ext=png&bg=FFFFFFFF' id='mvlogo'>\")\n",
       "document.getElementsByTagName(\"BODY\")[0].insertAdjacentHTML(\"afterend\", \"<div class='hidden' id='tooltip2'><p>click the eye to hide/show tools</p></div>\");\n",
       "var help_box = document.getElementById('help_box');\n",
       "\n",
       "help_box.classList.add('floater');\n",
       "\n",
       "help_box.innerHTML = \"<h2 id='heading'><b>Visual tools</b></h2><button id='button1' class='clean_buttons'>Magnify lines </button><button id='button2'class = 'clean_buttons' >Enlarge cells</button><button id='button3' class = 'clean_buttons' >highlight lines</button><button id='button4' class = 'clean_buttons' >highlight cell</button>\";\n",
       "help_box.innerHTML +=\"<button id='button5' class='clean_buttons'>Enlarge</button><button id='button6' class='clean_buttons'>Highlight</button>\"\n",
       "help_box.innerHTML += \"<button id='button7' class='clean_buttons'>enlarge</button\"\n",
       "help_box.innerHTML+= \"<p class='sections' id='code_heading'><b>Code</b></p>\"\n",
       "help_box.innerHTML+= \"<p class='sections' id='output_heading'><b>Outputs</b></p>\"\n",
       "help_box.innerHTML+= \"<p class='sections' id='markdown_heading'><b>Markdowns</b></p>\"\n",
       "help_box.innerHTML +=\"<p id='credit'>logo credit to https://www.flaticon.com/free-icon/eye-open_25186 <br>  used under open license: Attribution 3.0 Unported (CC BY 3.0)<br> Coded by N.Griffiths employed by Muliverse </p>\"\n",
       "document.body.appendChild(help_box);\n",
       "\n",
       "document.getElementById('button7').addEventListener('click',function(){\n",
       "   enlarge_markdown();});\n",
       "    \n",
       "document.getElementById('button6').addEventListener('click',function(){\n",
       "    magnify_output_lines();});\n",
       "\n",
       "document.getElementById('button5').addEventListener('click',function(){\n",
       "    magnify_outputs();});\n",
       "    \n",
       "document.getElementById('button4').addEventListener('click',function(){\n",
       "    highlight_cell();});\n",
       "\n",
       "document.getElementById('button3').addEventListener('click',function(){\n",
       "    highlight_code();});\n",
       "\n",
       "document.getElementById('button2').addEventListener('click',function(){\n",
       "    magnify_cell();});\n",
       "\n",
       "document.getElementById('button1').addEventListener('click',function(){\n",
       "    magnify_code();});\n",
       " \n",
       "document.getElementById('mvlogo').addEventListener('click',function(){  \n",
       "document.getElementById('help_box').classList.toggle('hidden');}); \n",
       " \n",
       " \n",
       "document.getElementById('mvlogo').addEventListener('mouseover',function(){  \n",
       "document.getElementById('tooltip2').classList.toggle('hidden');});\n",
       "\n",
       "document.getElementById('mvlogo').addEventListener('mouseout',function(){  \n",
       "document.getElementById('tooltip2').classList.toggle('hidden');});\n",
       "\n",
       "\n",
       "</script>\n",
       "<a id='boilerplate' href=\"javascript:code_toggle()\">change js running visual-aids</a>.\n",
       "\n",
       "\n",
       "<style>\n",
       "\n",
       ".hidden{\n",
       "display:none;\n",
       "}\n",
       "\n",
       "#credit{\n",
       "position: fixed;\n",
       "top:65.5vh;\n",
       "left:81vw;\n",
       "font-size:0.9vmin;\n",
       "}\n",
       "#boilerplate{\n",
       "color:white;\n",
       "}\n",
       "\n",
       "#boilerplate:hover{\n",
       "color:blue;\n",
       "}\n",
       "\n",
       "#tooltip2{\n",
       "position:fixed;\n",
       "z-index:1001;\n",
       "left:80vw;\n",
       "top:18vh;\n",
       "font-size:1.5vh;\n",
       "background-color:white;\n",
       "}\n",
       "\n",
       ".floater{\n",
       "background-color:#FFFFFF;\n",
       "color:#003b49;\n",
       "border-style:solid;\n",
       "border-color:#003b49;\n",
       "borderwidth:0.1vh;\n",
       "z-index:1000;\n",
       "position:fixed;\n",
       "left: 80vw;\n",
       "Top: 20vh;\n",
       "height: 53vh;\n",
       "width: 18vw;\n",
       "\n",
       "}\n",
       "\n",
       "#heading{\n",
       "position:fixed;\n",
       "top:21vh;\n",
       "left:80vw;\n",
       "margin: 1vh 1vh 1vh  1vh;\n",
       "font-size:3vmin;}\n",
       "\n",
       ".clean_buttons{\n",
       "padding: 0px 0px 0px 0px;\n",
       "background-color:#d0d3d4;\n",
       "color:#003b49;\n",
       "cursor: pointer;\n",
       "width:8vw;\n",
       "height:6vh;\n",
       "font-size:2vmin;\n",
       "border-width:0.1vh;\n",
       "}\n",
       "#button1{\n",
       "position:fixed;\n",
       "top:31vh;\n",
       "left:80.5vw;\n",
       "}\n",
       "#button2{\n",
       "position:fixed;\n",
       "top:31vh;\n",
       "left:89vw;\n",
       "}\n",
       "#button3{\n",
       "position:fixed;\n",
       "top:38vh;\n",
       "left:80.5vw;\n",
       "}\n",
       "#button4{\n",
       "position:fixed;\n",
       "top:38vh;\n",
       "left:89vw;\n",
       "}\n",
       "#button5{\n",
       "position:fixed;\n",
       "top:48.5vh;\n",
       "left:80.5vw;\n",
       "}\n",
       "#button6{\n",
       "position:fixed;\n",
       "top:48.5vh;\n",
       "left:89vw;\n",
       "}\n",
       "#button7{\n",
       "position:fixed;\n",
       "top:58vh;\n",
       "left: 84vw;\n",
       "}\n",
       ".active_button{\n",
       "background:#003b49;\n",
       "color:#d0d3d4;\n",
       "}\n",
       "\n",
       ".sections{\n",
       "font-size: 2vmin;\n",
       "left:82vw;\n",
       "}\n",
       "#code_heading{\n",
       "position:fixed;\n",
       "top:28vh;\n",
       "}\n",
       "#output_heading{\n",
       "position:fixed;\n",
       "top:45vh;\n",
       "}\n",
       "#markdown_heading{\n",
       "position:fixed;\n",
       "top:55vh;\n",
       "}\n",
       "\n",
       "#mvlogo{\n",
       "width:18vw;\n",
       "height:8vh;\n",
       "object-fit: cover;\n",
       "position:fixed;\n",
       "z-index:1000;\n",
       "left: 80vw;\n",
       "top: 10vh;\n",
       "border: 0.5vh solid #003b49;\n",
       "cursor: pointer;\n",
       "}\n",
       "\n",
       ".highlighted :hover{\n",
       "background-color:#fcfaeb;\n",
       "}\n",
       "\n",
       ".highlighted_code div pre :hover{\n",
       "background-color:yellow;\n",
       "}\n",
       "\n",
       ".magnified_code div pre span:hover{\n",
       "margin-top:3vh;\n",
       "margin-bottom:3vh;\n",
       "height:30px;\n",
       "width:auto;\n",
       "font-size:130%;}\n",
       "\n",
       ".magnified_cell div pre{\n",
       "padding: 6px 0px 6px 0px;\n",
       "}\n",
       "\n",
       ".magnified_cell div{\n",
       "font-size:120%;\n",
       "line-height:120%;\n",
       "}\n",
       "\n",
       ".magnified_output *{\n",
       "font-size: 115%;\n",
       "}\n",
       "\n",
       ".magnified_output_lines :hover{\n",
       "background-color:#FFFF99;\n",
       "color:purple;\n",
       "\n",
       "}\n",
       "\n",
       ".enlarged *  {\n",
       "font-size:120%;\n",
       "line-height:120%;\n",
       "\n",
       "}\n",
       "\n",
       "\n",
       "\n",
       "</style>\n"
      ],
      "text/plain": [
       "<IPython.core.display.HTML object>"
      ]
     },
     "metadata": {},
     "output_type": "display_data"
    }
   ],
   "source": [
    "from IPython.display import HTML\n",
    "from IPython.display import Javascript\n",
    "\n",
    "from IPython.display import display\n",
    "\n",
    "# Taken from https://stackoverflow.com/questions/31517194/how-to-hide-one-specific-cell-input-or-output-in-ipython-notebook\n",
    "tag = HTML(\"\"\"<script>\n",
    "code_show=true; \n",
    "function code_toggle() {\n",
    "    if (code_show){\n",
    "        $('div.cell.code_cell.rendered.selected div.input').hide();\n",
    "    } else {\n",
    "        $('div.cell.code_cell.rendered.selected div.input').show();\n",
    "    }\n",
    "    code_show = !code_show\n",
    "} \n",
    "$( document ).ready(code_toggle);\n",
    "\n",
    "var flagHighlight=0;\n",
    "var flagHighlightCode = 0;\n",
    "var flagMagnifyCell = 0;\n",
    "var flagMagnifyCode =0;\n",
    "var flagMagnifyOutputs=0;\n",
    "var flagEnlarge = 0;\n",
    "var flagHighlightOutput = 0;\n",
    "\n",
    "function enlarge_markdown(){\n",
    "    \n",
    "if(flagEnlarge==0){\n",
    "flagEnlarges = 1;\n",
    "document.getElementById('button7').classList.toggle('active_button');\n",
    "var els = document.getElementsByClassName('text_cell');\n",
    "var i;\n",
    "for(i=0;i<els.length;i++){\n",
    "els[i].classList.toggle('enlarged');}}\n",
    "else{\n",
    "flagEnlarge = 0;\n",
    "document.getElementById('button7').classList.toggle('active_button');\n",
    "var els = document.getElementsByClassName('text_cell');\n",
    "var i;\n",
    "for(i=0;i<els.length;i++){\n",
    "els[i].classList.remove('enlarged');\n",
    "}};};\n",
    "\n",
    "\n",
    "function magnify_outputs(){\n",
    "    \n",
    "if(flagMagnifyOutputs==0){\n",
    "flagMagnifyOutputs = 1;\n",
    "document.getElementById('button5').classList.toggle('active_button');\n",
    "var els = document.getElementsByClassName('output_wrapper');\n",
    "var i;\n",
    "for(i=0;i<els.length;i++){\n",
    "els[i].classList.toggle('magnified_output');}}\n",
    "else{\n",
    "flagMagnifyOutputs = 0;\n",
    "document.getElementById('button5').classList.toggle('active_button');\n",
    "var els = document.getElementsByClassName('output_wrapper');\n",
    "var i;\n",
    "for(i=0;i<els.length;i++){\n",
    "els[i].classList.remove('magnified_output');\n",
    "}};};\n",
    "\n",
    "function magnify_output_lines(){\n",
    "    \n",
    "if(flagHighlightOutput==0){\n",
    "flagHighlightOutput = 1;\n",
    "document.getElementById('button6').classList.toggle('active_button');\n",
    "var els = document.getElementsByClassName('output_wrapper');\n",
    "var i;\n",
    "for(i=0;i<els.length;i++){\n",
    "els[i].classList.toggle('magnified_output_lines');}}\n",
    "else{flagHighlightOutput = 0;\n",
    "document.getElementById('button6').classList.toggle('active_button');\n",
    "var els = document.getElementsByClassName('output_wrapper');\n",
    "var i;\n",
    "for(i=0;i<els.length;i++){\n",
    "els[i].classList.remove('magnified_output_lines');\n",
    "}};};\n",
    "\n",
    "\n",
    "function highlight_cell(){\n",
    "    \n",
    "if(flagHighlight==0){\n",
    "flagHighlight = 1;\n",
    "document.getElementById('button4').classList.toggle('active_button');\n",
    "var els = document.getElementsByClassName('CodeMirror-lines');\n",
    "var i;\n",
    "for(i=0;i<els.length;i++){\n",
    "els[i].classList.toggle('highlighted');}}\n",
    "else{flagHighlight = 0;\n",
    "document.getElementById('button4').classList.toggle('active_button');\n",
    "var els = document.getElementsByClassName('CodeMirror-lines');\n",
    "var i;\n",
    "for(i=0;i<els.length;i++){\n",
    "els[i].classList.remove('highlighted');\n",
    "}};};\n",
    "\n",
    "\n",
    "function highlight_code(){   \n",
    "if(flagHighlightCode==0){\n",
    "\n",
    "flagHighlightCode = 1;\n",
    "document.getElementById('button3').classList.toggle('active_button');\n",
    "var els = document.getElementsByClassName('CodeMirror-lines');\n",
    "var i;\n",
    "for(i=0;i<els.length;i++){\n",
    "els[i].classList.toggle('highlighted_code');}}   \n",
    "else{flagHighlightCode = 0;\n",
    "document.getElementById('button3').classList.toggle('active_button');\n",
    "var els = document.getElementsByClassName('CodeMirror-lines');\n",
    "var i;\n",
    "for(i=0;i<els.length;i++){\n",
    "els[i].classList.remove('highlighted_code');\n",
    "}};};\n",
    "\n",
    "function magnify_cell(){   \n",
    "if(flagMagnifyCell==0){\n",
    "flagMagnifyCell = 1;\n",
    "document.getElementById('button2').classList.toggle('active_button');\n",
    "var els = document.getElementsByClassName('CodeMirror-lines');\n",
    "var i;\n",
    "for(i=0;i<els.length;i++){\n",
    "els[i].classList.toggle('magnified_cell');}}   \n",
    "else{flagMagnifyCell = 0;\n",
    "document.getElementById('button2').classList.toggle('active_button');\n",
    "var els = document.getElementsByClassName('CodeMirror-lines');\n",
    "var i;\n",
    "for(i=0;i<els.length;i++){\n",
    "els[i].classList.remove('magnified_cell');\n",
    "}};};\n",
    "\n",
    "function magnify_code(){   \n",
    "if(flagMagnifyCode==0){\n",
    "flagMagnifyCode = 1;\n",
    "document.getElementById('button1').classList.toggle('active_button');\n",
    "var els = document.getElementsByClassName('CodeMirror-lines');\n",
    "var i;\n",
    "for(i=0;i<els.length;i++){\n",
    "els[i].classList.toggle('magnified_code');}}   \n",
    "else{flagMagnifyCode = 0;\n",
    "document.getElementById('button1').classList.toggle('active_button');\n",
    "var els = document.getElementsByClassName('CodeMirror-lines');\n",
    "var i;\n",
    "for(i=0;i<els.length;i++){\n",
    "els[i].classList.remove('magnified_code');\n",
    "}};};\n",
    "\n",
    "\n",
    "document.getElementsByTagName(\"BODY\")[0].insertAdjacentHTML(\"afterend\", \"<div id='help_box'></div>\");\n",
    "document.getElementsByTagName(\"BODY\")[0].insertAdjacentHTML(\"afterend\",\"<img src= 'https://img.flaticon.com/icons/png/512/25/25186.png?size=1200x630f&pad=10,10,10,10&ext=png&bg=FFFFFFFF' id='mvlogo'>\")\n",
    "document.getElementsByTagName(\"BODY\")[0].insertAdjacentHTML(\"afterend\", \"<div class='hidden' id='tooltip2'><p>click the eye to hide/show tools</p></div>\");\n",
    "var help_box = document.getElementById('help_box');\n",
    "\n",
    "help_box.classList.add('floater');\n",
    "\n",
    "help_box.innerHTML = \"<h2 id='heading'><b>Visual tools</b></h2><button id='button1' class='clean_buttons'>Magnify lines </button><button id='button2'class = 'clean_buttons' >Enlarge cells</button><button id='button3' class = 'clean_buttons' >highlight lines</button><button id='button4' class = 'clean_buttons' >highlight cell</button>\";\n",
    "help_box.innerHTML +=\"<button id='button5' class='clean_buttons'>Enlarge</button><button id='button6' class='clean_buttons'>Highlight</button>\"\n",
    "help_box.innerHTML += \"<button id='button7' class='clean_buttons'>enlarge</button\"\n",
    "help_box.innerHTML+= \"<p class='sections' id='code_heading'><b>Code</b></p>\"\n",
    "help_box.innerHTML+= \"<p class='sections' id='output_heading'><b>Outputs</b></p>\"\n",
    "help_box.innerHTML+= \"<p class='sections' id='markdown_heading'><b>Markdowns</b></p>\"\n",
    "help_box.innerHTML +=\"<p id='credit'>logo credit to https://www.flaticon.com/free-icon/eye-open_25186 <br>  used under open license: Attribution 3.0 Unported (CC BY 3.0)<br> Coded by N.Griffiths employed by Muliverse </p>\"\n",
    "document.body.appendChild(help_box);\n",
    "\n",
    "document.getElementById('button7').addEventListener('click',function(){\n",
    "   enlarge_markdown();});\n",
    "    \n",
    "document.getElementById('button6').addEventListener('click',function(){\n",
    "    magnify_output_lines();});\n",
    "\n",
    "document.getElementById('button5').addEventListener('click',function(){\n",
    "    magnify_outputs();});\n",
    "    \n",
    "document.getElementById('button4').addEventListener('click',function(){\n",
    "    highlight_cell();});\n",
    "\n",
    "document.getElementById('button3').addEventListener('click',function(){\n",
    "    highlight_code();});\n",
    "\n",
    "document.getElementById('button2').addEventListener('click',function(){\n",
    "    magnify_cell();});\n",
    "\n",
    "document.getElementById('button1').addEventListener('click',function(){\n",
    "    magnify_code();});\n",
    " \n",
    "document.getElementById('mvlogo').addEventListener('click',function(){  \n",
    "document.getElementById('help_box').classList.toggle('hidden');}); \n",
    " \n",
    " \n",
    "document.getElementById('mvlogo').addEventListener('mouseover',function(){  \n",
    "document.getElementById('tooltip2').classList.toggle('hidden');});\n",
    "\n",
    "document.getElementById('mvlogo').addEventListener('mouseout',function(){  \n",
    "document.getElementById('tooltip2').classList.toggle('hidden');});\n",
    "\n",
    "\n",
    "</script>\n",
    "<a id='boilerplate' href=\"javascript:code_toggle()\">change js running visual-aids</a>.\n",
    "\n",
    "\n",
    "<style>\n",
    "\n",
    ".hidden{\n",
    "display:none;\n",
    "}\n",
    "\n",
    "#credit{\n",
    "position: fixed;\n",
    "top:65.5vh;\n",
    "left:81vw;\n",
    "font-size:0.9vmin;\n",
    "}\n",
    "#boilerplate{\n",
    "color:white;\n",
    "}\n",
    "\n",
    "#boilerplate:hover{\n",
    "color:blue;\n",
    "}\n",
    "\n",
    "#tooltip2{\n",
    "position:fixed;\n",
    "z-index:1001;\n",
    "left:80vw;\n",
    "top:18vh;\n",
    "font-size:1.5vh;\n",
    "background-color:white;\n",
    "}\n",
    "\n",
    ".floater{\n",
    "background-color:#FFFFFF;\n",
    "color:#003b49;\n",
    "border-style:solid;\n",
    "border-color:#003b49;\n",
    "borderwidth:0.1vh;\n",
    "z-index:1000;\n",
    "position:fixed;\n",
    "left: 80vw;\n",
    "Top: 20vh;\n",
    "height: 53vh;\n",
    "width: 18vw;\n",
    "\n",
    "}\n",
    "\n",
    "#heading{\n",
    "position:fixed;\n",
    "top:21vh;\n",
    "left:80vw;\n",
    "margin: 1vh 1vh 1vh  1vh;\n",
    "font-size:3vmin;}\n",
    "\n",
    ".clean_buttons{\n",
    "padding: 0px 0px 0px 0px;\n",
    "background-color:#d0d3d4;\n",
    "color:#003b49;\n",
    "cursor: pointer;\n",
    "width:8vw;\n",
    "height:6vh;\n",
    "font-size:2vmin;\n",
    "border-width:0.1vh;\n",
    "}\n",
    "#button1{\n",
    "position:fixed;\n",
    "top:31vh;\n",
    "left:80.5vw;\n",
    "}\n",
    "#button2{\n",
    "position:fixed;\n",
    "top:31vh;\n",
    "left:89vw;\n",
    "}\n",
    "#button3{\n",
    "position:fixed;\n",
    "top:38vh;\n",
    "left:80.5vw;\n",
    "}\n",
    "#button4{\n",
    "position:fixed;\n",
    "top:38vh;\n",
    "left:89vw;\n",
    "}\n",
    "#button5{\n",
    "position:fixed;\n",
    "top:48.5vh;\n",
    "left:80.5vw;\n",
    "}\n",
    "#button6{\n",
    "position:fixed;\n",
    "top:48.5vh;\n",
    "left:89vw;\n",
    "}\n",
    "#button7{\n",
    "position:fixed;\n",
    "top:58vh;\n",
    "left: 84vw;\n",
    "}\n",
    ".active_button{\n",
    "background:#003b49;\n",
    "color:#d0d3d4;\n",
    "}\n",
    "\n",
    ".sections{\n",
    "font-size: 2vmin;\n",
    "left:82vw;\n",
    "}\n",
    "#code_heading{\n",
    "position:fixed;\n",
    "top:28vh;\n",
    "}\n",
    "#output_heading{\n",
    "position:fixed;\n",
    "top:45vh;\n",
    "}\n",
    "#markdown_heading{\n",
    "position:fixed;\n",
    "top:55vh;\n",
    "}\n",
    "\n",
    "#mvlogo{\n",
    "width:18vw;\n",
    "height:8vh;\n",
    "object-fit: cover;\n",
    "position:fixed;\n",
    "z-index:1000;\n",
    "left: 80vw;\n",
    "top: 10vh;\n",
    "border: 0.5vh solid #003b49;\n",
    "cursor: pointer;\n",
    "}\n",
    "\n",
    ".highlighted :hover{\n",
    "background-color:#fcfaeb;\n",
    "}\n",
    "\n",
    ".highlighted_code div pre :hover{\n",
    "background-color:yellow;\n",
    "}\n",
    "\n",
    ".magnified_code div pre span:hover{\n",
    "margin-top:3vh;\n",
    "margin-bottom:3vh;\n",
    "height:30px;\n",
    "width:auto;\n",
    "font-size:130%;}\n",
    "\n",
    ".magnified_cell div pre{\n",
    "padding: 6px 0px 6px 0px;\n",
    "}\n",
    "\n",
    ".magnified_cell div{\n",
    "font-size:120%;\n",
    "line-height:120%;\n",
    "}\n",
    "\n",
    ".magnified_output *{\n",
    "font-size: 115%;\n",
    "}\n",
    "\n",
    ".magnified_output_lines :hover{\n",
    "background-color:#FFFF99;\n",
    "color:purple;\n",
    "\n",
    "}\n",
    "\n",
    ".enlarged *  {\n",
    "font-size:120%;\n",
    "line-height:120%;\n",
    "\n",
    "}\n",
    "\n",
    "\n",
    "\n",
    "</style>\n",
    "\"\"\")\n",
    "\n",
    "display(tag)"
   ]
  },
  {
   "cell_type": "markdown",
   "metadata": {
    "id": "BhOE89KuNVxp"
   },
   "source": [
    "# An Introduction to Normality, Descriptive Statistics and Hypothesis Testing\n"
   ]
  },
  {
   "cell_type": "code",
   "execution_count": 1,
   "metadata": {
    "id": "as4rvgFzNVxq"
   },
   "outputs": [],
   "source": [
    "# import libraries that we will use\n",
    "import numpy as np # for numerical work\n",
    "import pandas as pd # for manipulating dataframes\n",
    "from matplotlib import pyplot as plt # for plotting graphs\n",
    "from scipy import stats # for statistical calculations"
   ]
  },
  {
   "cell_type": "code",
   "execution_count": 2,
   "metadata": {
    "id": "C3vMLbUFNVxw"
   },
   "outputs": [],
   "source": [
    "# import individual samples\n",
    "samples = pd.read_csv('individual_samples.csv')\n",
    "# import paired samples\n",
    "pairs = pd.read_csv('paired_samples.csv')"
   ]
  },
  {
   "cell_type": "code",
   "execution_count": 3,
   "metadata": {
    "id": "TjLPUPqpNVx1",
    "outputId": "1c8f52c3-7618-476d-a6c9-bd5dfa063001"
   },
   "outputs": [
    {
     "data": {
      "text/html": [
       "<div>\n",
       "<style scoped>\n",
       "    .dataframe tbody tr th:only-of-type {\n",
       "        vertical-align: middle;\n",
       "    }\n",
       "\n",
       "    .dataframe tbody tr th {\n",
       "        vertical-align: top;\n",
       "    }\n",
       "\n",
       "    .dataframe thead th {\n",
       "        text-align: right;\n",
       "    }\n",
       "</style>\n",
       "<table border=\"1\" class=\"dataframe\">\n",
       "  <thead>\n",
       "    <tr style=\"text-align: right;\">\n",
       "      <th></th>\n",
       "      <th>demo1</th>\n",
       "      <th>demo2</th>\n",
       "      <th>sample1</th>\n",
       "      <th>sample2</th>\n",
       "      <th>sample3</th>\n",
       "      <th>sample4</th>\n",
       "    </tr>\n",
       "  </thead>\n",
       "  <tbody>\n",
       "    <tr>\n",
       "      <th>0</th>\n",
       "      <td>64.11</td>\n",
       "      <td>39.423287</td>\n",
       "      <td>77.78</td>\n",
       "      <td>3.617311</td>\n",
       "      <td>4028.344659</td>\n",
       "      <td>954.66</td>\n",
       "    </tr>\n",
       "    <tr>\n",
       "      <th>1</th>\n",
       "      <td>61.00</td>\n",
       "      <td>209.039023</td>\n",
       "      <td>70.17</td>\n",
       "      <td>13.572407</td>\n",
       "      <td>15165.030266</td>\n",
       "      <td>1523.97</td>\n",
       "    </tr>\n",
       "    <tr>\n",
       "      <th>2</th>\n",
       "      <td>69.50</td>\n",
       "      <td>390.874071</td>\n",
       "      <td>91.70</td>\n",
       "      <td>13.997737</td>\n",
       "      <td>35529.476493</td>\n",
       "      <td>832.28</td>\n",
       "    </tr>\n",
       "    <tr>\n",
       "      <th>3</th>\n",
       "      <td>62.19</td>\n",
       "      <td>191.839272</td>\n",
       "      <td>112.21</td>\n",
       "      <td>4.899364</td>\n",
       "      <td>1136.497236</td>\n",
       "      <td>1071.03</td>\n",
       "    </tr>\n",
       "    <tr>\n",
       "      <th>4</th>\n",
       "      <td>62.48</td>\n",
       "      <td>81.451570</td>\n",
       "      <td>89.09</td>\n",
       "      <td>14.502589</td>\n",
       "      <td>54345.524376</td>\n",
       "      <td>987.99</td>\n",
       "    </tr>\n",
       "  </tbody>\n",
       "</table>\n",
       "</div>"
      ],
      "text/plain": [
       "   demo1       demo2  sample1    sample2       sample3  sample4\n",
       "0  64.11   39.423287    77.78   3.617311   4028.344659   954.66\n",
       "1  61.00  209.039023    70.17  13.572407  15165.030266  1523.97\n",
       "2  69.50  390.874071    91.70  13.997737  35529.476493   832.28\n",
       "3  62.19  191.839272   112.21   4.899364   1136.497236  1071.03\n",
       "4  62.48   81.451570    89.09  14.502589  54345.524376   987.99"
      ]
     },
     "execution_count": 3,
     "metadata": {},
     "output_type": "execute_result"
    }
   ],
   "source": [
    "# let's have a look at the individual samples\n",
    "samples.head()"
   ]
  },
  {
   "cell_type": "markdown",
   "metadata": {
    "id": "_azAGWb4NVx6"
   },
   "source": [
    "# Section 1: Distributions and descriptive statistics (examples)"
   ]
  },
  {
   "cell_type": "code",
   "execution_count": 4,
   "metadata": {
    "id": "v4cHcwOFNVx7",
    "outputId": "75d87438-bacd-4fb1-b560-cce23d1108ca"
   },
   "outputs": [
    {
     "data": {
      "image/png": "[encoded data removed]",
      "text/plain": [
       "<Figure size 432x288 with 1 Axes>"
      ]
     },
     "metadata": {
      "needs_background": "light"
     },
     "output_type": "display_data"
    }
   ],
   "source": [
    "# here's the distribution of one of our samples. Does it look normal?\n",
    "plt.hist(samples.demo1, bins=20);"
   ]
  },
  {
   "cell_type": "code",
   "execution_count": 5,
   "metadata": {
    "id": "2I9PNWm2NVx9"
   },
   "outputs": [],
   "source": [
    "# if we want to get really fancy, we can show the distribution compared to a normal curve...\n",
    "def hist(sample):\n",
    "    # calculate the mean and standard deviation of the sample\n",
    "    mean = np.mean(sample)\n",
    "    sd = np.std(sample)\n",
    "\n",
    "    # create the histogram as before\n",
    "    n, bins, patches = plt.hist(sample, 20, density=1, facecolor='green', alpha=0.5)\n",
    "\n",
    "    # calculate a 'best fit' normal curve\n",
    "    y = stats.norm.pdf(bins, mean, sd)\n",
    "    \n",
    "    # plot the normal curve\n",
    "    l = plt.plot(bins, y, 'r--', linewidth=2, color='blue')\n",
    "\n",
    "    plt.show()"
   ]
  },
  {
   "cell_type": "code",
   "execution_count": 6,
   "metadata": {
    "id": "a1Tas5A5NVx_",
    "outputId": "babc394b-ff76-4ee5-f9cb-8f34ad11ee93"
   },
   "outputs": [
    {
     "data": {
      "image/png": "[encoded data removed]",
      "text/plain": [
       "<Figure size 432x288 with 1 Axes>"
      ]
     },
     "metadata": {
      "needs_background": "light"
     },
     "output_type": "display_data"
    }
   ],
   "source": [
    "hist(samples.demo1)"
   ]
  },
  {
   "cell_type": "code",
   "execution_count": 7,
   "metadata": {
    "id": "HLGt_xX9NVyC",
    "outputId": "201b9f7d-fdce-4a55-be89-48777d31751f"
   },
   "outputs": [
    {
     "name": "stdout",
     "output_type": "stream",
     "text": [
      "The mean of the first sample is 59.90439999999999. The standard deviation of the first sample is 5.050276095422902.\n"
     ]
    }
   ],
   "source": [
    "# Hence pretty normal, so calculate the mean and sd\n",
    "mean = np.mean(samples.demo1)\n",
    "sd = np.std(samples.demo1)\n",
    "\n",
    "print(f'The mean of the first sample is {mean}.',\n",
    "f'The standard deviation of the first sample is {sd}.')"
   ]
  },
  {
   "cell_type": "code",
   "execution_count": 8,
   "metadata": {
    "id": "dg-4LB7hNVyD",
    "outputId": "3ca7a10b-19af-4946-93c8-93df585074b5"
   },
   "outputs": [
    {
     "data": {
      "image/png": "[encoded data removed]",
      "text/plain": [
       "<Figure size 432x288 with 1 Axes>"
      ]
     },
     "metadata": {
      "needs_background": "light"
     },
     "output_type": "display_data"
    }
   ],
   "source": [
    "# let's have a look at another example\n",
    "plt.hist(samples.demo2, bins=20);"
   ]
  },
  {
   "cell_type": "code",
   "execution_count": 9,
   "metadata": {
    "id": "x87SaQifNVyF",
    "outputId": "eb178828-9803-4910-e1bf-b18e6f36bb0f"
   },
   "outputs": [
    {
     "data": {
      "image/png": "[encoded data removed]",
      "text/plain": [
       "<Figure size 432x288 with 1 Axes>"
      ]
     },
     "metadata": {
      "needs_background": "light"
     },
     "output_type": "display_data"
    }
   ],
   "source": [
    "# let's have a look at this using our facy function, that adds a normal curve\n",
    "hist(samples.demo2)"
   ]
  },
  {
   "cell_type": "code",
   "execution_count": 10,
   "metadata": {
    "id": "eeCEHhvnNVyH",
    "outputId": "9c49636d-dcf2-46d3-b2c5-07bfb468aa6a"
   },
   "outputs": [
    {
     "name": "stdout",
     "output_type": "stream",
     "text": [
      "The median of the second sample is 123.25764966501718. The IQR of the second sample is 166.67339257953526.\n"
     ]
    }
   ],
   "source": [
    "# looks pretty non-normal so let's calculate the median and IQR\n",
    "median = np.median(samples.demo2)\n",
    "iqr = stats.iqr(samples.demo2)\n",
    "\n",
    "print(f'The median of the second sample is {median}.',\n",
    "f'The IQR of the second sample is {iqr}.')"
   ]
  },
  {
   "cell_type": "markdown",
   "metadata": {
    "id": "1QHEaWKqNVyI"
   },
   "source": [
    "## Now it's your turn! Use this space to view the distributions of the other individual samples (in the 'samples' dataframe), decide whether they are normal and calculate the appropriate statistics.\n",
    "Sample 1:"
   ]
  },
  {
   "cell_type": "code",
   "execution_count": null,
   "metadata": {
    "id": "oDFPaIb9NVyJ"
   },
   "outputs": [],
   "source": []
  },
  {
   "cell_type": "markdown",
   "metadata": {},
   "source": [
    "Sample 2:"
   ]
  },
  {
   "cell_type": "code",
   "execution_count": null,
   "metadata": {},
   "outputs": [],
   "source": []
  },
  {
   "cell_type": "markdown",
   "metadata": {},
   "source": [
    "Sample 3:"
   ]
  },
  {
   "cell_type": "code",
   "execution_count": null,
   "metadata": {},
   "outputs": [],
   "source": []
  },
  {
   "cell_type": "markdown",
   "metadata": {
    "id": "p26pXIQTNVyK"
   },
   "source": [
    "Sample 4:"
   ]
  },
  {
   "cell_type": "code",
   "execution_count": null,
   "metadata": {},
   "outputs": [],
   "source": []
  },
  {
   "cell_type": "markdown",
   "metadata": {
    "id": "Z-x-tNy3NVyM"
   },
   "source": [
    "# Section 2: Hypothesis Testing"
   ]
  },
  {
   "cell_type": "code",
   "execution_count": 11,
   "metadata": {
    "id": "SLu2Y3oLNVyM",
    "outputId": "2cc343bf-5d95-4ff0-b2b4-2e61bb442f39"
   },
   "outputs": [
    {
     "data": {
      "text/html": [
       "<div>\n",
       "<style scoped>\n",
       "    .dataframe tbody tr th:only-of-type {\n",
       "        vertical-align: middle;\n",
       "    }\n",
       "\n",
       "    .dataframe tbody tr th {\n",
       "        vertical-align: top;\n",
       "    }\n",
       "\n",
       "    .dataframe thead th {\n",
       "        text-align: right;\n",
       "    }\n",
       "</style>\n",
       "<table border=\"1\" class=\"dataframe\">\n",
       "  <thead>\n",
       "    <tr style=\"text-align: right;\">\n",
       "      <th></th>\n",
       "      <th>demo1a</th>\n",
       "      <th>demo1b</th>\n",
       "      <th>demo2a</th>\n",
       "      <th>demo2b</th>\n",
       "      <th>pair1a</th>\n",
       "      <th>pair1b</th>\n",
       "      <th>pair2a</th>\n",
       "      <th>pair2b</th>\n",
       "      <th>pair3a</th>\n",
       "      <th>pair3b</th>\n",
       "      <th>pair4a</th>\n",
       "      <th>pair4b</th>\n",
       "    </tr>\n",
       "  </thead>\n",
       "  <tbody>\n",
       "    <tr>\n",
       "      <th>0</th>\n",
       "      <td>999.59</td>\n",
       "      <td>1029.71</td>\n",
       "      <td>400.485281</td>\n",
       "      <td>338.931767</td>\n",
       "      <td>13720.250878</td>\n",
       "      <td>16500.417358</td>\n",
       "      <td>104.49</td>\n",
       "      <td>94.86</td>\n",
       "      <td>53.34</td>\n",
       "      <td>78.37</td>\n",
       "      <td>36.109627</td>\n",
       "      <td>53.569894</td>\n",
       "    </tr>\n",
       "    <tr>\n",
       "      <th>1</th>\n",
       "      <td>1031.08</td>\n",
       "      <td>898.90</td>\n",
       "      <td>474.919121</td>\n",
       "      <td>135.637243</td>\n",
       "      <td>25310.796903</td>\n",
       "      <td>2929.896870</td>\n",
       "      <td>92.96</td>\n",
       "      <td>117.19</td>\n",
       "      <td>67.71</td>\n",
       "      <td>54.41</td>\n",
       "      <td>10.136369</td>\n",
       "      <td>23.599287</td>\n",
       "    </tr>\n",
       "    <tr>\n",
       "      <th>2</th>\n",
       "      <td>725.97</td>\n",
       "      <td>1042.95</td>\n",
       "      <td>493.126560</td>\n",
       "      <td>115.039600</td>\n",
       "      <td>46970.465909</td>\n",
       "      <td>36748.406910</td>\n",
       "      <td>92.64</td>\n",
       "      <td>78.13</td>\n",
       "      <td>46.15</td>\n",
       "      <td>69.19</td>\n",
       "      <td>9.327191</td>\n",
       "      <td>52.258655</td>\n",
       "    </tr>\n",
       "    <tr>\n",
       "      <th>3</th>\n",
       "      <td>973.44</td>\n",
       "      <td>1013.72</td>\n",
       "      <td>47.277976</td>\n",
       "      <td>422.379200</td>\n",
       "      <td>12214.846207</td>\n",
       "      <td>19567.640725</td>\n",
       "      <td>71.47</td>\n",
       "      <td>114.19</td>\n",
       "      <td>58.23</td>\n",
       "      <td>56.29</td>\n",
       "      <td>46.573517</td>\n",
       "      <td>23.206820</td>\n",
       "    </tr>\n",
       "    <tr>\n",
       "      <th>4</th>\n",
       "      <td>1003.31</td>\n",
       "      <td>952.75</td>\n",
       "      <td>80.730674</td>\n",
       "      <td>222.543519</td>\n",
       "      <td>48226.530721</td>\n",
       "      <td>2595.181430</td>\n",
       "      <td>81.75</td>\n",
       "      <td>117.30</td>\n",
       "      <td>58.91</td>\n",
       "      <td>62.05</td>\n",
       "      <td>26.756017</td>\n",
       "      <td>48.305057</td>\n",
       "    </tr>\n",
       "  </tbody>\n",
       "</table>\n",
       "</div>"
      ],
      "text/plain": [
       "    demo1a   demo1b      demo2a      demo2b        pair1a        pair1b  \\\n",
       "0   999.59  1029.71  400.485281  338.931767  13720.250878  16500.417358   \n",
       "1  1031.08   898.90  474.919121  135.637243  25310.796903   2929.896870   \n",
       "2   725.97  1042.95  493.126560  115.039600  46970.465909  36748.406910   \n",
       "3   973.44  1013.72   47.277976  422.379200  12214.846207  19567.640725   \n",
       "4  1003.31   952.75   80.730674  222.543519  48226.530721   2595.181430   \n",
       "\n",
       "   pair2a  pair2b  pair3a  pair3b     pair4a     pair4b  \n",
       "0  104.49   94.86   53.34   78.37  36.109627  53.569894  \n",
       "1   92.96  117.19   67.71   54.41  10.136369  23.599287  \n",
       "2   92.64   78.13   46.15   69.19   9.327191  52.258655  \n",
       "3   71.47  114.19   58.23   56.29  46.573517  23.206820  \n",
       "4   81.75  117.30   58.91   62.05  26.756017  48.305057  "
      ]
     },
     "execution_count": 11,
     "metadata": {},
     "output_type": "execute_result"
    }
   ],
   "source": [
    "# let's have a look at the data for our pairs of samples\n",
    "pairs.head()"
   ]
  },
  {
   "cell_type": "code",
   "execution_count": 12,
   "metadata": {
    "id": "XCE4E-F2NVyN",
    "outputId": "e9a8f412-33d0-4885-9fe0-e62578071108"
   },
   "outputs": [
    {
     "data": {
      "image/png": "[encoded data removed]",
      "text/plain": [
       "<Figure size 432x288 with 1 Axes>"
      ]
     },
     "metadata": {
      "needs_background": "light"
     },
     "output_type": "display_data"
    }
   ],
   "source": [
    "# let's plot two samples on the same axes, to see if it looks like they came from the same population\n",
    "plt.hist(pairs.demo1a, bins=20, facecolor='blue', alpha=0.5)\n",
    "plt.hist(pairs.demo1b, bins=20, facecolor='red', alpha=0.5);"
   ]
  },
  {
   "cell_type": "code",
   "execution_count": 13,
   "metadata": {
    "id": "JsLIhs7bNVyP"
   },
   "outputs": [],
   "source": [
    "# let's put some normal curves on to help see if these samples look normal\n",
    "def double_hist(sample1, sample2):\n",
    "    # calculate mean and sd for normal curves\n",
    "    mean1 = np.mean(sample1)\n",
    "    sd1 = np.std(sample1)\n",
    "    mean2 = np.mean(sample2)\n",
    "    sd2 = np.std(sample2)\n",
    "\n",
    "    # make some histograms\n",
    "    n1, bins1, patches1 = plt.hist(sample1, 20, density=1, facecolor='blue', alpha=0.5)\n",
    "    n2, bins2, patches2 = plt.hist(sample2, 20, density=1, facecolor='red', alpha=0.5)\n",
    "\n",
    "    # add 'best fit' normal curves\n",
    "    y1 = stats.norm.pdf(bins1, mean1, sd1)\n",
    "    y2 = stats.norm.pdf(bins2, mean2, sd2)\n",
    "    l1 = plt.plot(bins1, y1, 'r--', linewidth=2, color='blue')\n",
    "    l2 = plt.plot(bins2, y2, 'r--', linewidth=2)\n",
    "\n",
    "    plt.show()"
   ]
  },
  {
   "cell_type": "code",
   "execution_count": 14,
   "metadata": {
    "id": "RaK6JyGjNVyQ",
    "outputId": "abd27836-2c2e-4bfe-8491-4e84a2ca9dd4"
   },
   "outputs": [
    {
     "data": {
      "image/png": "[encoded data removed]",
      "text/plain": [
       "<Figure size 432x288 with 1 Axes>"
      ]
     },
     "metadata": {
      "needs_background": "light"
     },
     "output_type": "display_data"
    }
   ],
   "source": [
    "double_hist(pairs.demo1a, pairs.demo1b)"
   ]
  },
  {
   "cell_type": "code",
   "execution_count": 15,
   "metadata": {
    "id": "NAMFKhkkNVyR",
    "outputId": "bdde7f4c-8a63-4e45-bb15-8fecdf3faf2c"
   },
   "outputs": [
    {
     "data": {
      "text/plain": [
       "\"Welch's t-test p-value: 0.0002686843013763093\""
      ]
     },
     "execution_count": 15,
     "metadata": {},
     "output_type": "execute_result"
    }
   ],
   "source": [
    "# they seem to be from different populations, let's see what a hypothesis test has to say...\n",
    "p = stats.ttest_ind(pairs.demo1a, pairs.demo1b, equal_var=False).pvalue\n",
    "f\"Welch's t-test p-value: {p}\""
   ]
  },
  {
   "cell_type": "code",
   "execution_count": 16,
   "metadata": {
    "id": "CyHvTmc-NVyT"
   },
   "outputs": [],
   "source": [
    "# we could create a little function to help interpret our p-values\n",
    "def interpret(p_val):\n",
    "    print('Enter your null hypothesis and press enter:')\n",
    "    h0 = input()\n",
    "    if p_val < 0.05:\n",
    "        print('reject the null hypothesis that', h0)\n",
    "    else:\n",
    "        print('insufficient evidence to reject the null hypothesis that', h0)"
   ]
  },
  {
   "cell_type": "code",
   "execution_count": 17,
   "metadata": {
    "id": "Wvf_GvQYNVyU",
    "outputId": "2523cf20-6d8c-4905-ad9a-e04f5232c64f"
   },
   "outputs": [
    {
     "name": "stdout",
     "output_type": "stream",
     "text": [
      "Enter your null hypothesis and press enter:\n",
      "the samples come from the same population\n",
      "reject the null hypothesis that the samples come from the same population\n"
     ]
    }
   ],
   "source": [
    "interpret(p)"
   ]
  },
  {
   "cell_type": "code",
   "execution_count": 18,
   "metadata": {
    "id": "YfKlwwFfNVyW",
    "outputId": "a6140607-3a48-44e2-85c3-5c15c8b6a207"
   },
   "outputs": [
    {
     "data": {
      "image/png": "[encoded data removed]",
      "text/plain": [
       "<Figure size 432x288 with 1 Axes>"
      ]
     },
     "metadata": {
      "needs_background": "light"
     },
     "output_type": "display_data"
    }
   ],
   "source": [
    "# let's have a look at another example, do the samples look normal?\n",
    "plt.hist(pairs.demo2a, bins=20, facecolor='blue', alpha=0.5)\n",
    "plt.hist(pairs.demo2b, bins=20, facecolor='red', alpha=0.5);"
   ]
  },
  {
   "cell_type": "code",
   "execution_count": 19,
   "metadata": {
    "id": "tLQY1m9dNVyX",
    "outputId": "badfc1e6-b71f-4a29-e67d-cb8eb29bb307"
   },
   "outputs": [
    {
     "data": {
      "image/png": "[encoded data removed]",
      "text/plain": [
       "<Figure size 432x288 with 1 Axes>"
      ]
     },
     "metadata": {
      "needs_background": "light"
     },
     "output_type": "display_data"
    }
   ],
   "source": [
    "# try our fancy plot from earlier\n",
    "double_hist(pairs.demo2a, pairs.demo2b)"
   ]
  },
  {
   "cell_type": "code",
   "execution_count": 20,
   "metadata": {
    "id": "zbnUzcMRNVyY",
    "outputId": "9e5dd891-1036-4c37-cb7d-94112538fee4"
   },
   "outputs": [
    {
     "name": "stdout",
     "output_type": "stream",
     "text": [
      "Mann-Whitney U Test p-value: 0.15461514813075505\n"
     ]
    }
   ],
   "source": [
    "# are they seem from different populations? Let's see what stats says... (non-normal => Mann-Whitney U Test)\n",
    "p = stats.mannwhitneyu(pairs.demo2a, pairs.demo2b).pvalue\n",
    "print(f\"Mann-Whitney U Test p-value: {p}\")"
   ]
  },
  {
   "cell_type": "code",
   "execution_count": 21,
   "metadata": {
    "id": "vXcPWsUwNVyZ",
    "outputId": "625d9dbc-2e97-4539-ce74-e807af2b243c"
   },
   "outputs": [
    {
     "name": "stdout",
     "output_type": "stream",
     "text": [
      "Enter your null hypothesis and press enter:\n",
      "the samples come from the same population\n",
      "insufficient evidence to reject the null hypothesis that the samples come from the same population\n"
     ]
    }
   ],
   "source": [
    "interpret(p)"
   ]
  },
  {
   "cell_type": "markdown",
   "metadata": {
    "id": "rTcFH4VcNVya"
   },
   "source": [
    "## Your turrn again... run through the process outlined above, to test if the other pairs of samples in the 'pairs' dataframe come from the same population.\n",
    "Plot the distributions. Normal => t-test. Non-normal => Mann Whitney U Test.\n",
    "\n",
    "Pair 1:"
   ]
  },
  {
   "cell_type": "code",
   "execution_count": null,
   "metadata": {
    "id": "BpNe7J4ONVya"
   },
   "outputs": [],
   "source": []
  },
  {
   "cell_type": "markdown",
   "metadata": {
    "id": "cmBT6uYuNVyb"
   },
   "source": [
    "Pair 2:"
   ]
  },
  {
   "cell_type": "code",
   "execution_count": null,
   "metadata": {},
   "outputs": [],
   "source": []
  },
  {
   "cell_type": "markdown",
   "metadata": {},
   "source": [
    "Pair 3:"
   ]
  },
  {
   "cell_type": "code",
   "execution_count": null,
   "metadata": {},
   "outputs": [],
   "source": []
  },
  {
   "cell_type": "markdown",
   "metadata": {},
   "source": [
    "Pair 4:"
   ]
  },
  {
   "cell_type": "code",
   "execution_count": null,
   "metadata": {},
   "outputs": [],
   "source": []
  },
  {
   "cell_type": "markdown",
   "metadata": {
    "id": "mMdG5ZV2NVyc"
   },
   "source": [
    "# Applying hypothesis testing to tell if our data is normal"
   ]
  },
  {
   "cell_type": "code",
   "execution_count": 22,
   "metadata": {
    "id": "fDHut2dKNVyc",
    "outputId": "73b7ace8-85c6-4196-9ec8-ca5ad27a3525"
   },
   "outputs": [
    {
     "data": {
      "image/png": "[encoded data removed]",
      "text/plain": [
       "<Figure size 432x288 with 1 Axes>"
      ]
     },
     "metadata": {
      "needs_background": "light"
     },
     "output_type": "display_data"
    }
   ],
   "source": [
    "# remember our first individual sample...\n",
    "plt.hist(samples.demo1, bins=20);"
   ]
  },
  {
   "cell_type": "code",
   "execution_count": 23,
   "metadata": {
    "id": "1WGXjd8WNVyd",
    "outputId": "5d29ed52-6a7f-47a3-ffa6-06e57461ad94"
   },
   "outputs": [
    {
     "data": {
      "text/plain": [
       "'Shapiro-Wilks p-value: 0.9843'"
      ]
     },
     "execution_count": 23,
     "metadata": {},
     "output_type": "execute_result"
    }
   ],
   "source": [
    "# we can conduct a hypothesis test, where the null hypothesis is 'this data comes from a normal distribution'.\n",
    "# It's called the Shapiro-Wilks Test.\n",
    "p = round(stats.shapiro(samples.demo1)[1],4)\n",
    "f'Shapiro-Wilks p-value: {p}'"
   ]
  },
  {
   "cell_type": "code",
   "execution_count": 24,
   "metadata": {
    "id": "1B0HKCRvNVye",
    "outputId": "4c4b4593-7c03-4644-ef37-e9b07a917158"
   },
   "outputs": [
    {
     "name": "stdout",
     "output_type": "stream",
     "text": [
      "Enter your null hypothesis and press enter:\n",
      "the sample comes from a normal distribution\n",
      "insufficient evidence to reject the null hypothesis that the sample comes from a normal distribution\n"
     ]
    }
   ],
   "source": [
    "interpret(p)"
   ]
  },
  {
   "cell_type": "code",
   "execution_count": 25,
   "metadata": {
    "id": "zpSOWrkiNVyf",
    "outputId": "4ba1df85-d945-42d3-f13f-8c73b94bcbaa"
   },
   "outputs": [
    {
     "data": {
      "image/png": "[encoded data removed]",
      "text/plain": [
       "<Figure size 432x288 with 1 Axes>"
      ]
     },
     "metadata": {
      "needs_background": "light"
     },
     "output_type": "display_data"
    }
   ],
   "source": [
    "# this seems to support what we spotted from the histogram.\n",
    "# Let's see the same for our second individual sample that we thought wasn't normal...\n",
    "plt.hist(samples.demo2, bins=20);"
   ]
  },
  {
   "cell_type": "code",
   "execution_count": 26,
   "metadata": {
    "id": "QxNcFHQtNVyg",
    "outputId": "bb697b05-9a24-4329-87cb-639c9065a078"
   },
   "outputs": [
    {
     "data": {
      "text/plain": [
       "'Shapiro-Wilks p-value: 0.0007694097585044801'"
      ]
     },
     "execution_count": 26,
     "metadata": {},
     "output_type": "execute_result"
    }
   ],
   "source": [
    "# conduct Shapiro-Wilks to see if the sample is normal\n",
    "p = stats.shapiro(samples.demo2)[1]\n",
    "f'Shapiro-Wilks p-value: {p}'"
   ]
  },
  {
   "cell_type": "code",
   "execution_count": 27,
   "metadata": {
    "id": "v4gY22yrNVyh",
    "outputId": "72abf361-894a-4278-be27-e733e555b37b"
   },
   "outputs": [
    {
     "name": "stdout",
     "output_type": "stream",
     "text": [
      "Enter your null hypothesis and press enter:\n",
      "the sample comes from a normal distribution\n",
      "reject the null hypothesis that the sample comes from a normal distribution\n"
     ]
    }
   ],
   "source": [
    "interpret(p)"
   ]
  }
 ],
 "metadata": {
  "colab": {
   "collapsed_sections": [
    "rTcFH4VcNVya"
   ],
   "name": "Copy of Hypothesis Testing.ipynb",
   "provenance": []
  },
  "kernelspec": {
   "display_name": "Python 3",
   "language": "python",
   "name": "python3"
  },
  "language_info": {
   "codemirror_mode": {
    "name": "ipython",
    "version": 3
   },
   "file_extension": ".py",
   "mimetype": "text/x-python",
   "name": "python",
   "nbconvert_exporter": "python",
   "pygments_lexer": "ipython3",
   "version": "3.7.6"
  }
 },
 "nbformat": 4,
 "nbformat_minor": 1
}
